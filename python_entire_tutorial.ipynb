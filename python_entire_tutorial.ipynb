{
 "cells": [
  {
   "attachments": {},
   "cell_type": "markdown",
   "id": "6345d3bf",
   "metadata": {},
   "source": [
    "# Strings and its functions"
   ]
  },
  {
   "cell_type": "code",
   "execution_count": 1,
   "id": "7d28fb87",
   "metadata": {},
   "outputs": [
    {
     "name": "stdout",
     "output_type": "stream",
     "text": [
      "Naveen is a Data Scientist\n"
     ]
    }
   ],
   "source": [
    "print(\"Naveen is a Data Scientist\")"
   ]
  },
  {
   "cell_type": "code",
   "execution_count": 2,
   "id": "e5d6ba63",
   "metadata": {},
   "outputs": [
    {
     "name": "stdout",
     "output_type": "stream",
     "text": [
      "Naveen is a Data Scientist\n"
     ]
    }
   ],
   "source": [
    "info = \"Naveen is a Data Scientist\"\n",
    "print(info)"
   ]
  },
  {
   "cell_type": "code",
   "execution_count": 3,
   "id": "368b32d9",
   "metadata": {},
   "outputs": [
    {
     "name": "stdout",
     "output_type": "stream",
     "text": [
      "Naveen's Data Science Company\n"
     ]
    }
   ],
   "source": [
    "print(\"Naveen's Data Science Company\")"
   ]
  },
  {
   "cell_type": "code",
   "execution_count": 4,
   "id": "993b4ded",
   "metadata": {},
   "outputs": [
    {
     "name": "stdout",
     "output_type": "stream",
     "text": [
      "Naveen's Data Science Company\n"
     ]
    }
   ],
   "source": [
    "print('Naveen\\'s Data Science Company')"
   ]
  },
  {
   "cell_type": "code",
   "execution_count": 5,
   "id": "c8e53cca",
   "metadata": {},
   "outputs": [
    {
     "name": "stdout",
     "output_type": "stream",
     "text": [
      "Naveen's Data\n",
      "Science Company\n"
     ]
    }
   ],
   "source": [
    "info = '''Naveen\\'s Data\n",
    "Science Company'''\n",
    "print(info)"
   ]
  },
  {
   "cell_type": "code",
   "execution_count": 6,
   "id": "17c046f3",
   "metadata": {},
   "outputs": [
    {
     "name": "stdout",
     "output_type": "stream",
     "text": [
      "29\n"
     ]
    }
   ],
   "source": [
    "#Length of String\n",
    "\n",
    "info = \"Naveen's Data Science Company\"\n",
    "print(len(info))"
   ]
  },
  {
   "cell_type": "code",
   "execution_count": 7,
   "id": "c437cb22",
   "metadata": {
    "scrolled": true
   },
   "outputs": [
    {
     "name": "stdout",
     "output_type": "stream",
     "text": [
      "N\n",
      "n\n",
      "c\n",
      "y\n",
      "o\n"
     ]
    }
   ],
   "source": [
    "#to access particular character from the string\n",
    "info = \"Naveen's Data Science Company\"\n",
    "print(info[0])\n",
    "print(info[5])\n",
    "print(info[15])\n",
    "print(info[-1])\n",
    "print(info[-6])"
   ]
  },
  {
   "cell_type": "code",
   "execution_count": 24,
   "id": "cbf6bc06",
   "metadata": {},
   "outputs": [
    {
     "name": "stdout",
     "output_type": "stream",
     "text": [
      "Naveen's Data Science Company\n",
      "Naveen's Data S\n",
      "ee\n",
      "Naveen's Data Science Compan\n",
      "\n",
      "ompan\n"
     ]
    }
   ],
   "source": [
    "#To print set of characters\n",
    "info = \"Naveen's Data Science Company\"\n",
    "print(info[:])\n",
    "print(info[:15])\n",
    "print(info[3:5])\n",
    "print(info[:-1])\n",
    "print(info[-1:-15])\n",
    "print(info[-6:-1])"
   ]
  },
  {
   "cell_type": "code",
   "execution_count": 25,
   "id": "3f50c7da",
   "metadata": {},
   "outputs": [
    {
     "name": "stdout",
     "output_type": "stream",
     "text": [
      "naveen's data science company\n"
     ]
    }
   ],
   "source": [
    "#convert string to lower case\n",
    "info = \"Naveen's Data Science Company\"\n",
    "print(info.lower())"
   ]
  },
  {
   "cell_type": "code",
   "execution_count": 26,
   "id": "c807cae1",
   "metadata": {},
   "outputs": [
    {
     "name": "stdout",
     "output_type": "stream",
     "text": [
      "NAVEEN'S DATA SCIENCE COMPANY\n"
     ]
    }
   ],
   "source": [
    "#convert string to upper case\n",
    "info = \"Naveen's Data Science Company\"\n",
    "print(info.upper())"
   ]
  },
  {
   "cell_type": "code",
   "execution_count": 29,
   "id": "c2a65525",
   "metadata": {},
   "outputs": [
    {
     "name": "stdout",
     "output_type": "stream",
     "text": [
      "9\n",
      "9\n",
      "-1\n"
     ]
    }
   ],
   "source": [
    "#to find the position of particular string value\n",
    "info = \"Naveen's Data Science Company\"\n",
    "print(info.find(\"D\"))\n",
    "print(info.find(\"Data\"))\n",
    "print(info.find(\"X\"))"
   ]
  },
  {
   "cell_type": "code",
   "execution_count": 30,
   "id": "2e6333cf",
   "metadata": {},
   "outputs": [
    {
     "name": "stdout",
     "output_type": "stream",
     "text": [
      "Naveen's Machine Learning Company\n"
     ]
    }
   ],
   "source": [
    "#To replace a new word in the String\n",
    "info = \"Naveen's Data Science Company\"\n",
    "print(info.replace(\"Data Science\", \"Machine Learning\"))"
   ]
  },
  {
   "cell_type": "code",
   "execution_count": 32,
   "id": "7fc2cabf",
   "metadata": {},
   "outputs": [
    {
     "name": "stdout",
     "output_type": "stream",
     "text": [
      "Naveen'sData Science Company\n",
      "Naveen's Data Science Company\n"
     ]
    }
   ],
   "source": [
    "#To concatanate two strings\n",
    "info = \"Naveen's\"\n",
    "info_in = \"Data Science Company\"\n",
    "print(info+info_in)\n",
    "print(info+\" \"+info_in)"
   ]
  },
  {
   "cell_type": "code",
   "execution_count": 33,
   "id": "3e85ad58",
   "metadata": {},
   "outputs": [
    {
     "name": "stdout",
     "output_type": "stream",
     "text": [
      "Naveen this is Data Science domain\n"
     ]
    }
   ],
   "source": [
    "#To format the string\n",
    "info = \"Naveen\"\n",
    "info_in = \"Data Science\"\n",
    "print(\"{} this is {} domain\".format(info, info_in))"
   ]
  },
  {
   "cell_type": "code",
   "execution_count": 34,
   "id": "39d7d5ad",
   "metadata": {},
   "outputs": [
    {
     "name": "stdout",
     "output_type": "stream",
     "text": [
      "Naveen this is Data Science domain\n"
     ]
    }
   ],
   "source": [
    "#To format the string using fstring\n",
    "info = \"Naveen\"\n",
    "info_in = \"Data Science\"\n",
    "print(f\"{info} this is {info_in} domain\")"
   ]
  },
  {
   "cell_type": "code",
   "execution_count": 35,
   "id": "90c0d98f",
   "metadata": {},
   "outputs": [
    {
     "name": "stdout",
     "output_type": "stream",
     "text": [
      "['__add__', '__class__', '__contains__', '__delattr__', '__dir__', '__doc__', '__eq__', '__format__', '__ge__', '__getattribute__', '__getitem__', '__getnewargs__', '__gt__', '__hash__', '__init__', '__init_subclass__', '__iter__', '__le__', '__len__', '__lt__', '__mod__', '__mul__', '__ne__', '__new__', '__reduce__', '__reduce_ex__', '__repr__', '__rmod__', '__rmul__', '__setattr__', '__sizeof__', '__str__', '__subclasshook__', 'capitalize', 'casefold', 'center', 'count', 'encode', 'endswith', 'expandtabs', 'find', 'format', 'format_map', 'index', 'isalnum', 'isalpha', 'isascii', 'isdecimal', 'isdigit', 'isidentifier', 'islower', 'isnumeric', 'isprintable', 'isspace', 'istitle', 'isupper', 'join', 'ljust', 'lower', 'lstrip', 'maketrans', 'partition', 'removeprefix', 'removesuffix', 'replace', 'rfind', 'rindex', 'rjust', 'rpartition', 'rsplit', 'rstrip', 'split', 'splitlines', 'startswith', 'strip', 'swapcase', 'title', 'translate', 'upper', 'zfill']\n"
     ]
    }
   ],
   "source": [
    "#To see methods and attributes associated with String\n",
    "info = \"Naveen's Data Science Company\"\n",
    "print(dir(info))"
   ]
  },
  {
   "cell_type": "code",
   "execution_count": 1,
   "id": "439eba41",
   "metadata": {
    "scrolled": false
   },
   "outputs": [
    {
     "name": "stdout",
     "output_type": "stream",
     "text": [
      "Help on class str in module builtins:\n",
      "\n",
      "class str(object)\n",
      " |  str(object='') -> str\n",
      " |  str(bytes_or_buffer[, encoding[, errors]]) -> str\n",
      " |  \n",
      " |  Create a new string object from the given object. If encoding or\n",
      " |  errors is specified, then the object must expose a data buffer\n",
      " |  that will be decoded using the given encoding and error handler.\n",
      " |  Otherwise, returns the result of object.__str__() (if defined)\n",
      " |  or repr(object).\n",
      " |  encoding defaults to sys.getdefaultencoding().\n",
      " |  errors defaults to 'strict'.\n",
      " |  \n",
      " |  Methods defined here:\n",
      " |  \n",
      " |  __add__(self, value, /)\n",
      " |      Return self+value.\n",
      " |  \n",
      " |  __contains__(self, key, /)\n",
      " |      Return key in self.\n",
      " |  \n",
      " |  __eq__(self, value, /)\n",
      " |      Return self==value.\n",
      " |  \n",
      " |  __format__(self, format_spec, /)\n",
      " |      Return a formatted version of the string as described by format_spec.\n",
      " |  \n",
      " |  __ge__(self, value, /)\n",
      " |      Return self>=value.\n",
      " |  \n",
      " |  __getattribute__(self, name, /)\n",
      " |      Return getattr(self, name).\n",
      " |  \n",
      " |  __getitem__(self, key, /)\n",
      " |      Return self[key].\n",
      " |  \n",
      " |  __getnewargs__(...)\n",
      " |  \n",
      " |  __gt__(self, value, /)\n",
      " |      Return self>value.\n",
      " |  \n",
      " |  __hash__(self, /)\n",
      " |      Return hash(self).\n",
      " |  \n",
      " |  __iter__(self, /)\n",
      " |      Implement iter(self).\n",
      " |  \n",
      " |  __le__(self, value, /)\n",
      " |      Return self<=value.\n",
      " |  \n",
      " |  __len__(self, /)\n",
      " |      Return len(self).\n",
      " |  \n",
      " |  __lt__(self, value, /)\n",
      " |      Return self<value.\n",
      " |  \n",
      " |  __mod__(self, value, /)\n",
      " |      Return self%value.\n",
      " |  \n",
      " |  __mul__(self, value, /)\n",
      " |      Return self*value.\n",
      " |  \n",
      " |  __ne__(self, value, /)\n",
      " |      Return self!=value.\n",
      " |  \n",
      " |  __repr__(self, /)\n",
      " |      Return repr(self).\n",
      " |  \n",
      " |  __rmod__(self, value, /)\n",
      " |      Return value%self.\n",
      " |  \n",
      " |  __rmul__(self, value, /)\n",
      " |      Return value*self.\n",
      " |  \n",
      " |  __sizeof__(self, /)\n",
      " |      Return the size of the string in memory, in bytes.\n",
      " |  \n",
      " |  __str__(self, /)\n",
      " |      Return str(self).\n",
      " |  \n",
      " |  capitalize(self, /)\n",
      " |      Return a capitalized version of the string.\n",
      " |      \n",
      " |      More specifically, make the first character have upper case and the rest lower\n",
      " |      case.\n",
      " |  \n",
      " |  casefold(self, /)\n",
      " |      Return a version of the string suitable for caseless comparisons.\n",
      " |  \n",
      " |  center(self, width, fillchar=' ', /)\n",
      " |      Return a centered string of length width.\n",
      " |      \n",
      " |      Padding is done using the specified fill character (default is a space).\n",
      " |  \n",
      " |  count(...)\n",
      " |      S.count(sub[, start[, end]]) -> int\n",
      " |      \n",
      " |      Return the number of non-overlapping occurrences of substring sub in\n",
      " |      string S[start:end].  Optional arguments start and end are\n",
      " |      interpreted as in slice notation.\n",
      " |  \n",
      " |  encode(self, /, encoding='utf-8', errors='strict')\n",
      " |      Encode the string using the codec registered for encoding.\n",
      " |      \n",
      " |      encoding\n",
      " |        The encoding in which to encode the string.\n",
      " |      errors\n",
      " |        The error handling scheme to use for encoding errors.\n",
      " |        The default is 'strict' meaning that encoding errors raise a\n",
      " |        UnicodeEncodeError.  Other possible values are 'ignore', 'replace' and\n",
      " |        'xmlcharrefreplace' as well as any other name registered with\n",
      " |        codecs.register_error that can handle UnicodeEncodeErrors.\n",
      " |  \n",
      " |  endswith(...)\n",
      " |      S.endswith(suffix[, start[, end]]) -> bool\n",
      " |      \n",
      " |      Return True if S ends with the specified suffix, False otherwise.\n",
      " |      With optional start, test S beginning at that position.\n",
      " |      With optional end, stop comparing S at that position.\n",
      " |      suffix can also be a tuple of strings to try.\n",
      " |  \n",
      " |  expandtabs(self, /, tabsize=8)\n",
      " |      Return a copy where all tab characters are expanded using spaces.\n",
      " |      \n",
      " |      If tabsize is not given, a tab size of 8 characters is assumed.\n",
      " |  \n",
      " |  find(...)\n",
      " |      S.find(sub[, start[, end]]) -> int\n",
      " |      \n",
      " |      Return the lowest index in S where substring sub is found,\n",
      " |      such that sub is contained within S[start:end].  Optional\n",
      " |      arguments start and end are interpreted as in slice notation.\n",
      " |      \n",
      " |      Return -1 on failure.\n",
      " |  \n",
      " |  format(...)\n",
      " |      S.format(*args, **kwargs) -> str\n",
      " |      \n",
      " |      Return a formatted version of S, using substitutions from args and kwargs.\n",
      " |      The substitutions are identified by braces ('{' and '}').\n",
      " |  \n",
      " |  format_map(...)\n",
      " |      S.format_map(mapping) -> str\n",
      " |      \n",
      " |      Return a formatted version of S, using substitutions from mapping.\n",
      " |      The substitutions are identified by braces ('{' and '}').\n",
      " |  \n",
      " |  index(...)\n",
      " |      S.index(sub[, start[, end]]) -> int\n",
      " |      \n",
      " |      Return the lowest index in S where substring sub is found, \n",
      " |      such that sub is contained within S[start:end].  Optional\n",
      " |      arguments start and end are interpreted as in slice notation.\n",
      " |      \n",
      " |      Raises ValueError when the substring is not found.\n",
      " |  \n",
      " |  isalnum(self, /)\n",
      " |      Return True if the string is an alpha-numeric string, False otherwise.\n",
      " |      \n",
      " |      A string is alpha-numeric if all characters in the string are alpha-numeric and\n",
      " |      there is at least one character in the string.\n",
      " |  \n",
      " |  isalpha(self, /)\n",
      " |      Return True if the string is an alphabetic string, False otherwise.\n",
      " |      \n",
      " |      A string is alphabetic if all characters in the string are alphabetic and there\n",
      " |      is at least one character in the string.\n",
      " |  \n",
      " |  isascii(self, /)\n",
      " |      Return True if all characters in the string are ASCII, False otherwise.\n",
      " |      \n",
      " |      ASCII characters have code points in the range U+0000-U+007F.\n",
      " |      Empty string is ASCII too.\n",
      " |  \n",
      " |  isdecimal(self, /)\n",
      " |      Return True if the string is a decimal string, False otherwise.\n",
      " |      \n",
      " |      A string is a decimal string if all characters in the string are decimal and\n",
      " |      there is at least one character in the string.\n",
      " |  \n",
      " |  isdigit(self, /)\n",
      " |      Return True if the string is a digit string, False otherwise.\n",
      " |      \n",
      " |      A string is a digit string if all characters in the string are digits and there\n",
      " |      is at least one character in the string.\n",
      " |  \n",
      " |  isidentifier(self, /)\n",
      " |      Return True if the string is a valid Python identifier, False otherwise.\n",
      " |      \n",
      " |      Use keyword.iskeyword() to test for reserved identifiers such as \"def\" and\n",
      " |      \"class\".\n",
      " |  \n",
      " |  islower(self, /)\n",
      " |      Return True if the string is a lowercase string, False otherwise.\n",
      " |      \n",
      " |      A string is lowercase if all cased characters in the string are lowercase and\n",
      " |      there is at least one cased character in the string.\n",
      " |  \n",
      " |  isnumeric(self, /)\n",
      " |      Return True if the string is a numeric string, False otherwise.\n",
      " |      \n",
      " |      A string is numeric if all characters in the string are numeric and there is at\n",
      " |      least one character in the string.\n",
      " |  \n",
      " |  isprintable(self, /)\n",
      " |      Return True if the string is printable, False otherwise.\n",
      " |      \n",
      " |      A string is printable if all of its characters are considered printable in\n",
      " |      repr() or if it is empty.\n",
      " |  \n",
      " |  isspace(self, /)\n",
      " |      Return True if the string is a whitespace string, False otherwise.\n",
      " |      \n",
      " |      A string is whitespace if all characters in the string are whitespace and there\n",
      " |      is at least one character in the string.\n",
      " |  \n",
      " |  istitle(self, /)\n",
      " |      Return True if the string is a title-cased string, False otherwise.\n",
      " |      \n",
      " |      In a title-cased string, upper- and title-case characters may only\n",
      " |      follow uncased characters and lowercase characters only cased ones.\n",
      " |  \n",
      " |  isupper(self, /)\n",
      " |      Return True if the string is an uppercase string, False otherwise.\n",
      " |      \n",
      " |      A string is uppercase if all cased characters in the string are uppercase and\n",
      " |      there is at least one cased character in the string.\n",
      " |  \n",
      " |  join(self, iterable, /)\n",
      " |      Concatenate any number of strings.\n",
      " |      \n",
      " |      The string whose method is called is inserted in between each given string.\n",
      " |      The result is returned as a new string.\n",
      " |      \n",
      " |      Example: '.'.join(['ab', 'pq', 'rs']) -> 'ab.pq.rs'\n",
      " |  \n",
      " |  ljust(self, width, fillchar=' ', /)\n",
      " |      Return a left-justified string of length width.\n",
      " |      \n",
      " |      Padding is done using the specified fill character (default is a space).\n",
      " |  \n",
      " |  lower(self, /)\n",
      " |      Return a copy of the string converted to lowercase.\n",
      " |  \n",
      " |  lstrip(self, chars=None, /)\n",
      " |      Return a copy of the string with leading whitespace removed.\n",
      " |      \n",
      " |      If chars is given and not None, remove characters in chars instead.\n",
      " |  \n",
      " |  partition(self, sep, /)\n",
      " |      Partition the string into three parts using the given separator.\n",
      " |      \n",
      " |      This will search for the separator in the string.  If the separator is found,\n",
      " |      returns a 3-tuple containing the part before the separator, the separator\n",
      " |      itself, and the part after it.\n",
      " |      \n",
      " |      If the separator is not found, returns a 3-tuple containing the original string\n",
      " |      and two empty strings.\n",
      " |  \n",
      " |  replace(self, old, new, count=-1, /)\n",
      " |      Return a copy with all occurrences of substring old replaced by new.\n",
      " |      \n",
      " |        count\n",
      " |          Maximum number of occurrences to replace.\n",
      " |          -1 (the default value) means replace all occurrences.\n",
      " |      \n",
      " |      If the optional argument count is given, only the first count occurrences are\n",
      " |      replaced.\n",
      " |  \n",
      " |  rfind(...)\n",
      " |      S.rfind(sub[, start[, end]]) -> int\n",
      " |      \n",
      " |      Return the highest index in S where substring sub is found,\n",
      " |      such that sub is contained within S[start:end].  Optional\n",
      " |      arguments start and end are interpreted as in slice notation.\n",
      " |      \n",
      " |      Return -1 on failure.\n",
      " |  \n",
      " |  rindex(...)\n",
      " |      S.rindex(sub[, start[, end]]) -> int\n",
      " |      \n",
      " |      Return the highest index in S where substring sub is found,\n",
      " |      such that sub is contained within S[start:end].  Optional\n",
      " |      arguments start and end are interpreted as in slice notation.\n",
      " |      \n",
      " |      Raises ValueError when the substring is not found.\n",
      " |  \n",
      " |  rjust(self, width, fillchar=' ', /)\n",
      " |      Return a right-justified string of length width.\n",
      " |      \n",
      " |      Padding is done using the specified fill character (default is a space).\n",
      " |  \n",
      " |  rpartition(self, sep, /)\n",
      " |      Partition the string into three parts using the given separator.\n",
      " |      \n",
      " |      This will search for the separator in the string, starting at the end. If\n",
      " |      the separator is found, returns a 3-tuple containing the part before the\n",
      " |      separator, the separator itself, and the part after it.\n",
      " |      \n",
      " |      If the separator is not found, returns a 3-tuple containing two empty strings\n",
      " |      and the original string.\n",
      " |  \n",
      " |  rsplit(self, /, sep=None, maxsplit=-1)\n",
      " |      Return a list of the words in the string, using sep as the delimiter string.\n",
      " |      \n",
      " |        sep\n",
      " |          The delimiter according which to split the string.\n",
      " |          None (the default value) means split according to any whitespace,\n",
      " |          and discard empty strings from the result.\n",
      " |        maxsplit\n",
      " |          Maximum number of splits to do.\n",
      " |          -1 (the default value) means no limit.\n",
      " |      \n",
      " |      Splits are done starting at the end of the string and working to the front.\n",
      " |  \n",
      " |  rstrip(self, chars=None, /)\n",
      " |      Return a copy of the string with trailing whitespace removed.\n",
      " |      \n",
      " |      If chars is given and not None, remove characters in chars instead.\n",
      " |  \n",
      " |  split(self, /, sep=None, maxsplit=-1)\n",
      " |      Return a list of the words in the string, using sep as the delimiter string.\n",
      " |      \n",
      " |      sep\n",
      " |        The delimiter according which to split the string.\n",
      " |        None (the default value) means split according to any whitespace,\n",
      " |        and discard empty strings from the result.\n",
      " |      maxsplit\n",
      " |        Maximum number of splits to do.\n",
      " |        -1 (the default value) means no limit.\n",
      " |  \n",
      " |  splitlines(self, /, keepends=False)\n",
      " |      Return a list of the lines in the string, breaking at line boundaries.\n",
      " |      \n",
      " |      Line breaks are not included in the resulting list unless keepends is given and\n",
      " |      true.\n",
      " |  \n",
      " |  startswith(...)\n",
      " |      S.startswith(prefix[, start[, end]]) -> bool\n",
      " |      \n",
      " |      Return True if S starts with the specified prefix, False otherwise.\n",
      " |      With optional start, test S beginning at that position.\n",
      " |      With optional end, stop comparing S at that position.\n",
      " |      prefix can also be a tuple of strings to try.\n",
      " |  \n",
      " |  strip(self, chars=None, /)\n",
      " |      Return a copy of the string with leading and trailing whitespace removed.\n",
      " |      \n",
      " |      If chars is given and not None, remove characters in chars instead.\n",
      " |  \n",
      " |  swapcase(self, /)\n",
      " |      Convert uppercase characters to lowercase and lowercase characters to uppercase.\n",
      " |  \n",
      " |  title(self, /)\n",
      " |      Return a version of the string where each word is titlecased.\n",
      " |      \n",
      " |      More specifically, words start with uppercased characters and all remaining\n",
      " |      cased characters have lower case.\n",
      " |  \n",
      " |  translate(self, table, /)\n",
      " |      Replace each character in the string using the given translation table.\n",
      " |      \n",
      " |        table\n",
      " |          Translation table, which must be a mapping of Unicode ordinals to\n",
      " |          Unicode ordinals, strings, or None.\n",
      " |      \n",
      " |      The table must implement lookup/indexing via __getitem__, for instance a\n",
      " |      dictionary or list.  If this operation raises LookupError, the character is\n",
      " |      left untouched.  Characters mapped to None are deleted.\n",
      " |  \n",
      " |  upper(self, /)\n",
      " |      Return a copy of the string converted to uppercase.\n",
      " |  \n",
      " |  zfill(self, width, /)\n",
      " |      Pad a numeric string with zeros on the left, to fill a field of the given width.\n",
      " |      \n",
      " |      The string is never truncated.\n",
      " |  \n",
      " |  ----------------------------------------------------------------------\n",
      " |  Static methods defined here:\n",
      " |  \n",
      " |  __new__(*args, **kwargs) from builtins.type\n",
      " |      Create and return a new object.  See help(type) for accurate signature.\n",
      " |  \n",
      " |  maketrans(x, y=None, z=None, /)\n",
      " |      Return a translation table usable for str.translate().\n",
      " |      \n",
      " |      If there is only one argument, it must be a dictionary mapping Unicode\n",
      " |      ordinals (integers) or characters to Unicode ordinals, strings or None.\n",
      " |      Character keys will be then converted to ordinals.\n",
      " |      If there are two arguments, they must be strings of equal length, and\n",
      " |      in the resulting dictionary, each character in x will be mapped to the\n",
      " |      character at the same position in y. If there is a third argument, it\n",
      " |      must be a string, whose characters will be mapped to None in the result.\n",
      "\n",
      "None\n"
     ]
    }
   ],
   "source": [
    "#To get information about the attribute\n",
    "info = \"Naveen's Data Science Company\"\n",
    "print(help(str))"
   ]
  },
  {
   "attachments": {},
   "cell_type": "markdown",
   "id": "db523658",
   "metadata": {},
   "source": [
    "# Int and Float (Numeric data) "
   ]
  },
  {
   "attachments": {},
   "cell_type": "markdown",
   "id": "f55c0c11",
   "metadata": {},
   "source": [
    "Arithmatic Operators:\n",
    "\n",
    "    + -------> Addition\n",
    "    - -------> Subtraction\n",
    "    * -------> Multiplication\n",
    "    ** -------> Exponent\n",
    "    / -------> Division\n",
    "    // -------> Floor Division\n",
    "    % -------> Modulus\n",
    "    \n",
    "Arithmatic Assignment Operators:\n",
    "\n",
    "    += -------> Addition\n",
    "    -= -------> Subtraction\n",
    "    *= -------> Multiplication\n",
    "    **= -------> Exponent\n",
    "    /= -------> Division\n",
    "    //= -------> Floor Division\n",
    "    %= -------> Modulus\n",
    "\n",
    "Relational Operators:\n",
    "\n",
    "    > -------> Greater than\n",
    "    < -------> Less than\n",
    "    >= -------> Greater than equal to\n",
    "    <= -------> Less than equal to\n",
    "    == -------> Equal to\n",
    "    != -------> Not equal to"
   ]
  },
  {
   "cell_type": "code",
   "execution_count": 40,
   "id": "8e1a2691",
   "metadata": {},
   "outputs": [
    {
     "name": "stdout",
     "output_type": "stream",
     "text": [
      "40\n",
      "=========================================\n",
      "20\n",
      "=========================================\n",
      "300\n",
      "=========================================\n",
      "590490000000000\n",
      "=========================================\n",
      "3.0\n",
      "=========================================\n",
      "3\n",
      "=========================================\n",
      "0\n",
      "=========================================\n"
     ]
    }
   ],
   "source": [
    "num1 = 30\n",
    "num2 = 10\n",
    "print(num1+num2)\n",
    "print(\"=========================================\")\n",
    "num1 = 30\n",
    "num2 = 10\n",
    "print(num1-num2)\n",
    "print(\"=========================================\")\n",
    "num1 = 30\n",
    "num2 = 10\n",
    "print(num1*num2)\n",
    "print(\"=========================================\")\n",
    "num1 = 30\n",
    "num2 = 10\n",
    "print(num1**num2)\n",
    "print(\"=========================================\")\n",
    "num1 = 30\n",
    "num2 = 10\n",
    "print(num1/num2)\n",
    "print(\"=========================================\")\n",
    "num1 = 30\n",
    "num2 = 10\n",
    "print(num1//num2)\n",
    "print(\"=========================================\")\n",
    "num1 = 30\n",
    "num2 = 10\n",
    "print(num1%num2)\n",
    "print(\"=========================================\")"
   ]
  },
  {
   "cell_type": "code",
   "execution_count": 45,
   "id": "a209206a",
   "metadata": {},
   "outputs": [
    {
     "name": "stdout",
     "output_type": "stream",
     "text": [
      "11\n",
      "----------------------------\n",
      "11\n",
      "----------------------------\n",
      "9\n",
      "----------------------------\n",
      "9\n",
      "----------------------------\n"
     ]
    }
   ],
   "source": [
    "#To increment and decrement values:\n",
    "num = 10\n",
    "num = num+1\n",
    "print(num)\n",
    "print(\"----------------------------\")\n",
    "num = 10\n",
    "num+=1\n",
    "print(num)\n",
    "print(\"----------------------------\")\n",
    "num = 10\n",
    "num = num-1\n",
    "print(num)\n",
    "print(\"----------------------------\")\n",
    "num = 10\n",
    "num-=1\n",
    "print(num)\n",
    "print(\"----------------------------\")"
   ]
  },
  {
   "cell_type": "code",
   "execution_count": 49,
   "id": "53639c76",
   "metadata": {},
   "outputs": [
    {
     "name": "stdout",
     "output_type": "stream",
     "text": [
      "20\n",
      "23\n",
      "23.234\n",
      "0b101\n"
     ]
    }
   ],
   "source": [
    "#Built in functions in python\n",
    "\n",
    "print(abs(-20))\n",
    "print(round(23.23434543564))\n",
    "print(round(23.234353453454323422, 3))\n",
    "print(bin(5))"
   ]
  },
  {
   "cell_type": "code",
   "execution_count": 50,
   "id": "977f9413",
   "metadata": {},
   "outputs": [
    {
     "name": "stdout",
     "output_type": "stream",
     "text": [
      "10050\n"
     ]
    }
   ],
   "source": [
    "#To concate the strings\n",
    "num1 = '100'\n",
    "num2 = '50'\n",
    "print(num1+num2)"
   ]
  },
  {
   "cell_type": "code",
   "execution_count": 53,
   "id": "e8a90919",
   "metadata": {},
   "outputs": [
    {
     "name": "stdout",
     "output_type": "stream",
     "text": [
      "150\n",
      "123.68435434534534\n",
      "150.45\n"
     ]
    }
   ],
   "source": [
    "#typecasting the string to integer\n",
    "num1 = '100'\n",
    "num2 = '50'\n",
    "num3 = '100.45'\n",
    "num4 = '23.23435434534534'\n",
    "print(int(num1) + int(num2))\n",
    "print(float(num3) + float(num4))\n",
    "print(float(num3) + int(num2))"
   ]
  },
  {
   "attachments": {},
   "cell_type": "markdown",
   "id": "e4d361ae",
   "metadata": {},
   "source": [
    "# List in Python\n",
    "    -> collection data type\n",
    "    -> ordered collection\n",
    "    -> mutable\n",
    "    -> A list can contain strings, integer, float, list within list, and tuple within list"
   ]
  },
  {
   "cell_type": "code",
   "execution_count": 55,
   "id": "3d048a46",
   "metadata": {},
   "outputs": [
    {
     "name": "stdout",
     "output_type": "stream",
     "text": [
      "['Hr', 'Finance', 'IT', 'Admin']\n"
     ]
    }
   ],
   "source": [
    "dept = [\"Hr\", \"Finance\", \"IT\", \"Admin\"]\n",
    "print(dept)"
   ]
  },
  {
   "cell_type": "code",
   "execution_count": 62,
   "id": "5581334e",
   "metadata": {},
   "outputs": [
    {
     "name": "stdout",
     "output_type": "stream",
     "text": [
      "Hr\n",
      "Admin\n",
      "Finance\n",
      "['Finance', 'IT', 'Admin']\n"
     ]
    }
   ],
   "source": [
    "#To access particular value from the list\n",
    "dept = [\"Hr\", \"Finance\", \"IT\", \"Admin\"]\n",
    "print(dept[0])\n",
    "print(dept[-1])\n",
    "print(dept[-3])\n",
    "print(dept[1:4])"
   ]
  },
  {
   "attachments": {},
   "cell_type": "markdown",
   "id": "d46c834d",
   "metadata": {},
   "source": [
    "# Built in methods in python"
   ]
  },
  {
   "cell_type": "code",
   "execution_count": 1,
   "id": "82cb44b3",
   "metadata": {},
   "outputs": [
    {
     "name": "stdout",
     "output_type": "stream",
     "text": [
      "['Hr', 'Finance', 'IT', 'Admin', 'CEO']\n",
      "['Hr', 'Finance', 'IT', 'Admin', 'CEO']\n",
      "[]\n"
     ]
    }
   ],
   "source": [
    "dept = [\"Hr\", \"Finance\", \"IT\", \"Admin\"]\n",
    "dept.append(\"CEO\")\n",
    "print(dept)\n",
    "dept_cpy = dept.copy()\n",
    "print(dept_cpy)\n",
    "dept.clear()\n",
    "print(dept)"
   ]
  },
  {
   "cell_type": "code",
   "execution_count": 2,
   "id": "735b9ff5",
   "metadata": {},
   "outputs": [
    {
     "name": "stdout",
     "output_type": "stream",
     "text": [
      "['Hr', 'Finance', 'IT', 'Admin', ['CEO', 'Training']]\n",
      "['Hr', 'Finance', 'IT', 'Admin', ['CEO', 'Training'], 'CEO', 'Training']\n"
     ]
    }
   ],
   "source": [
    "#To store the values on new list to the old list as same list\n",
    "dept = [\"Hr\", \"Finance\", \"IT\", \"Admin\"]\n",
    "dept_1 = [\"CEO\", \"Training\"]\n",
    "dept.append(dept_1)\n",
    "print(dept)\n",
    "dept.extend(dept_1)\n",
    "print(dept)"
   ]
  },
  {
   "cell_type": "code",
   "execution_count": 3,
   "id": "395016d7",
   "metadata": {},
   "outputs": [
    {
     "name": "stdout",
     "output_type": "stream",
     "text": [
      "0\n",
      "2\n"
     ]
    }
   ],
   "source": [
    "#To find the position of value in the list\n",
    "dept = [\"Hr\", \"Finance\", \"IT\", \"Admin\"]\n",
    "print(dept.index('Hr'))\n",
    "print(dept.index('IT'))"
   ]
  },
  {
   "cell_type": "code",
   "execution_count": 4,
   "id": "5224071b",
   "metadata": {},
   "outputs": [
    {
     "name": "stdout",
     "output_type": "stream",
     "text": [
      "Admin\n",
      "Finance\n",
      "['Hr', 'IT']\n"
     ]
    }
   ],
   "source": [
    "#To take out particular value from the List\n",
    "dept = [\"Hr\", \"Finance\", \"IT\", \"Admin\"]\n",
    "print(dept.pop(3))\n",
    "print(dept.pop(1))\n",
    "print(dept)"
   ]
  },
  {
   "cell_type": "code",
   "execution_count": 13,
   "id": "6374b740",
   "metadata": {},
   "outputs": [
    {
     "name": "stdout",
     "output_type": "stream",
     "text": [
      "None\n",
      "['Hr', 'Finance', 'Admin']\n"
     ]
    }
   ],
   "source": [
    "#To remove a value from the List\n",
    "dept = [\"Hr\", \"Finance\", \"IT\", \"Admin\"]\n",
    "print(dept.remove(\"IT\"))\n",
    "print(dept)\n"
   ]
  },
  {
   "cell_type": "code",
   "execution_count": 9,
   "id": "aca7417d",
   "metadata": {},
   "outputs": [
    {
     "name": "stdout",
     "output_type": "stream",
     "text": [
      "['Hr', 'IT', 'Finance', 'Admin']\n"
     ]
    }
   ],
   "source": [
    "#To add a values to anywhere in the List\n",
    "dept = ['Hr', 'Finance', 'Admin']\n",
    "dept.insert(1, \"IT\")\n",
    "print(dept)"
   ]
  },
  {
   "cell_type": "code",
   "execution_count": 7,
   "id": "08d476a4",
   "metadata": {},
   "outputs": [
    {
     "name": "stdout",
     "output_type": "stream",
     "text": [
      "['Admin', 'Finance', 'Hr', 'IT']\n"
     ]
    }
   ],
   "source": [
    " #To sort the list in ascending order\n",
    "dept = ['Hr', 'IT', 'Finance', 'Admin']\n",
    "dept.sort()\n",
    "print(dept)"
   ]
  },
  {
   "cell_type": "code",
   "execution_count": 8,
   "id": "b07394f6",
   "metadata": {},
   "outputs": [
    {
     "name": "stdout",
     "output_type": "stream",
     "text": [
      "['IT', 'Hr', 'Finance', 'Admin']\n"
     ]
    }
   ],
   "source": [
    "#To sort the list in descending order\n",
    "dept = ['Hr', 'IT', 'Finance', 'Admin']\n",
    "dept.sort(reverse = True)\n",
    "print(dept)"
   ]
  },
  {
   "cell_type": "code",
   "execution_count": 9,
   "id": "56688b18",
   "metadata": {},
   "outputs": [
    {
     "name": "stdout",
     "output_type": "stream",
     "text": [
      "['Admin', 'Finance', 'IT', 'Hr']\n"
     ]
    }
   ],
   "source": [
    "#To reverse the list\n",
    "dept = ['Hr', 'IT', 'Finance', 'Admin']\n",
    "dept.reverse()\n",
    "print(dept)"
   ]
  },
  {
   "cell_type": "code",
   "execution_count": 10,
   "id": "394ddaf7",
   "metadata": {},
   "outputs": [
    {
     "name": "stdout",
     "output_type": "stream",
     "text": [
      "5\n",
      "1\n",
      "2\n",
      "2\n"
     ]
    }
   ],
   "source": [
    "#To count the repitition of elements in the list\n",
    "num_lst = [1,1,1,1,1,3,4,4,5,6,7,7,5,567,6,7,89,9]\n",
    "print(num_lst.count(1))\n",
    "print(num_lst.count(3))\n",
    "print(num_lst.count(4))\n",
    "print(num_lst.count(5))"
   ]
  },
  {
   "cell_type": "code",
   "execution_count": 11,
   "id": "7541cf68",
   "metadata": {},
   "outputs": [
    {
     "name": "stdout",
     "output_type": "stream",
     "text": [
      "1\n",
      "567\n",
      "724\n"
     ]
    }
   ],
   "source": [
    "#To find the min, max, sum of the list\n",
    "num_lst = [1,1,1,1,1,3,4,4,5,6,7,7,5,567,6,7,89,9]\n",
    "print(min(num_lst))\n",
    "print(max(num_lst))\n",
    "print(sum(num_lst))"
   ]
  },
  {
   "attachments": {},
   "cell_type": "markdown",
   "id": "4e97ac5a",
   "metadata": {},
   "source": [
    "# Tuple in python\n",
    "    -> Tuple consist of string, integer, float\n",
    "    -> It is one of the collection datatype in python\n",
    "    -> list and tuple are used to store the data alone but list is mutable and tuple is immutable\n",
    "    -> Tuple are ordered sequence"
   ]
  },
  {
   "cell_type": "code",
   "execution_count": 14,
   "id": "8dab8417",
   "metadata": {},
   "outputs": [
    {
     "name": "stdout",
     "output_type": "stream",
     "text": [
      "(1, 23, 34, 45, 56, 67, 78, 89)\n"
     ]
    }
   ],
   "source": [
    "tup = (1,23,34,45,56,67,78,89)\n",
    "print(tup)"
   ]
  },
  {
   "cell_type": "code",
   "execution_count": 13,
   "id": "1cc7a837",
   "metadata": {},
   "outputs": [
    {
     "name": "stdout",
     "output_type": "stream",
     "text": [
      "56\n",
      "89\n",
      "78\n",
      "34\n"
     ]
    }
   ],
   "source": [
    "#To access particular value in tuple\n",
    "tup = (1,23,34,45,56,67,78,89)\n",
    "print(tup[4])\n",
    "print(tup[7])\n",
    "print(tup[6])\n",
    "print(tup[2])"
   ]
  },
  {
   "cell_type": "code",
   "execution_count": 14,
   "id": "578caa49",
   "metadata": {},
   "outputs": [
    {
     "name": "stdout",
     "output_type": "stream",
     "text": [
      "(1, 23, 34, 45, 56, 67, 78, 89)\n",
      "(1, 23, 34)\n",
      "(1, 23, 34, 45, 56, 67, 78)\n",
      "(34, 45, 56, 67, 78)\n"
     ]
    }
   ],
   "source": [
    "#To print a range of values\n",
    "tup = (1,23,34,45,56,67,78,89)\n",
    "print(tup[:])\n",
    "print(tup[0:3])\n",
    "print(tup[:-1])\n",
    "print(tup[-6:-1])"
   ]
  },
  {
   "attachments": {},
   "cell_type": "markdown",
   "id": "e8dbdfaa",
   "metadata": {},
   "source": [
    "# Built in methods in python"
   ]
  },
  {
   "cell_type": "code",
   "execution_count": 15,
   "id": "9481f74b",
   "metadata": {},
   "outputs": [
    {
     "name": "stdout",
     "output_type": "stream",
     "text": [
      "2\n",
      "1\n"
     ]
    }
   ],
   "source": [
    "#To count the number of occurance of particular value\n",
    "tup = (1,23,34,45,56,23,78,89)\n",
    "print(tup.count(23))\n",
    "print(tup.count(34))"
   ]
  },
  {
   "cell_type": "code",
   "execution_count": 16,
   "id": "dc3dd283",
   "metadata": {},
   "outputs": [
    {
     "name": "stdout",
     "output_type": "stream",
     "text": [
      "1\n"
     ]
    }
   ],
   "source": [
    "#To find the postion of values in tuple\n",
    "tup = (1,23,34,45,23,67,78,89)\n",
    "print(tup.index(23))"
   ]
  },
  {
   "cell_type": "code",
   "execution_count": 17,
   "id": "0ec39ac9",
   "metadata": {},
   "outputs": [
    {
     "name": "stdout",
     "output_type": "stream",
     "text": [
      "18\n",
      "1\n",
      "567\n",
      "724\n"
     ]
    }
   ],
   "source": [
    "#To find the length, min, max, sum of the list\n",
    "num_lst = (1,1,1,1,1,3,4,4,5,6,7,7,5,567,6,7,89,9)\n",
    "print(len(num_lst))\n",
    "print(min(num_lst))\n",
    "print(max(num_lst))\n",
    "print(sum(num_lst))"
   ]
  },
  {
   "cell_type": "code",
   "execution_count": 18,
   "id": "a0f66b87",
   "metadata": {},
   "outputs": [
    {
     "name": "stdout",
     "output_type": "stream",
     "text": [
      "[1, 1, 1, 1, 1, 3, 4, 4, 5, 5, 6, 6, 7, 7, 7, 9, 89, 567]\n"
     ]
    }
   ],
   "source": [
    "#To do sort the value\n",
    "num_lst = (1,1,1,1,1,3,4,4,5,6,7,7,5,567,6,7,89,9)\n",
    "print(sorted(num_lst))"
   ]
  },
  {
   "attachments": {},
   "cell_type": "markdown",
   "id": "f5f03344",
   "metadata": {},
   "source": [
    "# Set in python \n",
    "    -> It is unordered collection of data and doesnot allow duplication \n",
    "    -> Common use of set is membership testing and removing duplication\n",
    "    -> Cannot do indexing and slicing "
   ]
  },
  {
   "cell_type": "code",
   "execution_count": 19,
   "id": "3b65d06a",
   "metadata": {},
   "outputs": [
    {
     "name": "stdout",
     "output_type": "stream",
     "text": [
      "{67, 56756, 454, 2343, 123}\n"
     ]
    }
   ],
   "source": [
    "my_set = {123, 2343, 454, 56756, 67}\n",
    "print(my_set)"
   ]
  },
  {
   "cell_type": "code",
   "execution_count": 20,
   "id": "12490453",
   "metadata": {},
   "outputs": [
    {
     "name": "stdout",
     "output_type": "stream",
     "text": [
      "{32, 67, 56756, 454, 2343, 123}\n"
     ]
    }
   ],
   "source": [
    "#To add a value into set\n",
    "my_set = {123, 2343, 454, 56756, 67}\n",
    "my_set.add(32)\n",
    "print(my_set)"
   ]
  },
  {
   "cell_type": "code",
   "execution_count": 26,
   "id": "de4109f1",
   "metadata": {},
   "outputs": [
    {
     "name": "stdout",
     "output_type": "stream",
     "text": [
      "{67, 56756, 454, 2343}\n"
     ]
    }
   ],
   "source": [
    "#To remove a value from the set\n",
    "my_set = {123, 2343, 454, 56756, 67}\n",
    "my_set.remove(123)\n",
    "print(my_set)"
   ]
  },
  {
   "cell_type": "code",
   "execution_count": 28,
   "id": "33d971f6",
   "metadata": {},
   "outputs": [
    {
     "name": "stdout",
     "output_type": "stream",
     "text": [
      "{67, 56756, 2343, 123}\n"
     ]
    }
   ],
   "source": [
    "my_set = {123, 2343, 454, 56756, 67}\n",
    "my_set.discard(454)\n",
    "print(my_set)"
   ]
  },
  {
   "cell_type": "code",
   "execution_count": 35,
   "id": "c5c3433b",
   "metadata": {},
   "outputs": [
    {
     "name": "stdout",
     "output_type": "stream",
     "text": [
      "67\n",
      "56756\n",
      "{454, 2343, 123}\n"
     ]
    }
   ],
   "source": [
    "#To pop out a particular value\n",
    "my_set = {123, 2343, 454, 56756, 67}\n",
    "print(my_set.pop())\n",
    "print(my_set.pop())\n",
    "print(my_set)"
   ]
  },
  {
   "cell_type": "code",
   "execution_count": 36,
   "id": "0bc7de44",
   "metadata": {},
   "outputs": [
    {
     "data": {
      "text/plain": [
       "True"
      ]
     },
     "execution_count": 36,
     "metadata": {},
     "output_type": "execute_result"
    }
   ],
   "source": [
    "#To check the set2 is the subset of set1\n",
    "my_set = {123, 2343, 454, 56756, 67}\n",
    "set1 = {123, 454}\n",
    "set1.issubset(my_set)"
   ]
  },
  {
   "cell_type": "code",
   "execution_count": 38,
   "id": "f7448221",
   "metadata": {},
   "outputs": [
    {
     "name": "stdout",
     "output_type": "stream",
     "text": [
      "{67, 56756, 454, 2343, 123}\n",
      "set()\n"
     ]
    }
   ],
   "source": [
    "#To clear the entire set\n",
    "my_set = {123, 2343, 454, 56756, 67}\n",
    "print(my_set)\n",
    "my_set.clear()\n",
    "print(my_set)"
   ]
  },
  {
   "cell_type": "code",
   "execution_count": 39,
   "id": "7b60bda2",
   "metadata": {},
   "outputs": [
    {
     "name": "stdout",
     "output_type": "stream",
     "text": [
      "{123, 454}\n"
     ]
    }
   ],
   "source": [
    "#To find the common values in the sets given\n",
    "my_set = {123, 2343, 454, 56756, 67}\n",
    "set1 = {123, 454, 23, 100, 456789}\n",
    "print(my_set.intersection(set1))"
   ]
  },
  {
   "cell_type": "code",
   "execution_count": 41,
   "id": "42d01e00",
   "metadata": {},
   "outputs": [
    {
     "name": "stdout",
     "output_type": "stream",
     "text": [
      "{67, 56756, 2343}\n",
      "{100, 456789, 23}\n"
     ]
    }
   ],
   "source": [
    "#To find the difference between two sets\n",
    "my_set = {123, 2343, 454, 56756, 67}\n",
    "set1 = {123, 454, 23, 100, 456789}\n",
    "print(my_set.difference(set1))\n",
    "print(set1.difference(my_set))"
   ]
  },
  {
   "cell_type": "code",
   "execution_count": 43,
   "id": "0f2bb954",
   "metadata": {},
   "outputs": [
    {
     "name": "stdout",
     "output_type": "stream",
     "text": [
      "{67, 100, 454, 2343, 56756, 456789, 23, 123}\n",
      "{67, 100, 454, 2343, 56756, 456789, 23, 123}\n"
     ]
    }
   ],
   "source": [
    "#To find all the values of the set\n",
    "my_set = {123, 2343, 454, 56756, 67}\n",
    "set1 = {123, 454, 23, 100, 456789}\n",
    "print(my_set.union(set1))\n",
    "print(set1.union(my_set))"
   ]
  },
  {
   "cell_type": "code",
   "execution_count": 44,
   "id": "f8d70533",
   "metadata": {},
   "outputs": [
    {
     "name": "stdout",
     "output_type": "stream",
     "text": [
      "{67, 100, 456789, 23, 56756, 2343}\n"
     ]
    }
   ],
   "source": [
    "#To skip the values that are similar in both the sets\n",
    "my_set = {123, 2343, 454, 56756, 67}\n",
    "set1 = {123, 454, 23, 100, 456789}\n",
    "print(my_set.symmetric_difference(set1))"
   ]
  },
  {
   "attachments": {},
   "cell_type": "markdown",
   "id": "2dbef1bc",
   "metadata": {},
   "source": [
    "# Dictionary in python\n",
    "    -> It is a collection datatype\n",
    "    -> It allows you to work with key value packs"
   ]
  },
  {
   "cell_type": "code",
   "execution_count": 1,
   "id": "0d2f59e2",
   "metadata": {},
   "outputs": [
    {
     "name": "stdout",
     "output_type": "stream",
     "text": [
      "{'Name': 'Naveen', 'Age': 21, 'Salary': 800000}\n"
     ]
    }
   ],
   "source": [
    "employee = {\"Name\" : \"Naveen\", \"Age\" : 21, \"Salary\" : 800000}\n",
    "print(employee)"
   ]
  },
  {
   "cell_type": "code",
   "execution_count": 13,
   "id": "30191f11",
   "metadata": {},
   "outputs": [
    {
     "name": "stdout",
     "output_type": "stream",
     "text": [
      "Naveen\n",
      "21\n",
      "800000\n"
     ]
    }
   ],
   "source": [
    "#To fetch the particular value \n",
    "employee = {\"Name\" : \"Naveen\", \"Age\" : 21, \"Salary\" : 800000}\n",
    "print(employee[\"Name\"])\n",
    "print(employee[\"Age\"])\n",
    "print(employee[\"Salary\"])\n",
    "#print(employee[\"location\"])"
   ]
  },
  {
   "cell_type": "code",
   "execution_count": 16,
   "id": "0c138351",
   "metadata": {},
   "outputs": [
    {
     "name": "stdout",
     "output_type": "stream",
     "text": [
      "Naveen\n",
      "None\n",
      "Not Found\n"
     ]
    }
   ],
   "source": [
    "employee = {\"Name\" : \"Naveen\", \"Age\" : 21, \"Salary\" : 800000}\n",
    "print(employee.get(\"Name\"))\n",
    "print(employee.get(\"location\"))\n",
    "print(employee.get(\"location\", \"Not Found\"))"
   ]
  },
  {
   "cell_type": "code",
   "execution_count": 4,
   "id": "0bfb3b4d",
   "metadata": {},
   "outputs": [
    {
     "name": "stdout",
     "output_type": "stream",
     "text": [
      "{'Name': 'Naveen', 'Age': 21, 'Salary': 800000, 'Location': 'Not defined'}\n"
     ]
    }
   ],
   "source": [
    "#To add new information into the dictionary\n",
    "employee = {\"Name\" : \"Naveen\", \"Age\" : 21, \"Salary\" : 800000}\n",
    "employee[\"Location\"] = \"Not defined\"\n",
    "print(employee)"
   ]
  },
  {
   "cell_type": "code",
   "execution_count": 17,
   "id": "d4dee57f",
   "metadata": {},
   "outputs": [
    {
     "name": "stdout",
     "output_type": "stream",
     "text": [
      "Naveen\n",
      "21\n",
      "{'Salary': 800000}\n"
     ]
    }
   ],
   "source": [
    "#To pop the values from the dictionary\n",
    "employee = {\"Name\" : \"Naveen\", \"Age\" : 21, \"Salary\" : 800000}\n",
    "print(employee.pop(\"Name\"))\n",
    "print(employee.pop(\"Age\"))\n",
    "print(employee)"
   ]
  },
  {
   "cell_type": "code",
   "execution_count": 6,
   "id": "9de8f8ca",
   "metadata": {},
   "outputs": [
    {
     "name": "stdout",
     "output_type": "stream",
     "text": [
      "dict_keys(['Name', 'Age', 'Salary'])\n"
     ]
    }
   ],
   "source": [
    "#To know all the keys in the dictionary\n",
    "employee = {\"Name\" : \"Naveen\", \"Age\" : 21, \"Salary\" : 800000}\n",
    "print(employee.keys())"
   ]
  },
  {
   "cell_type": "code",
   "execution_count": 7,
   "id": "1bf6d4d4",
   "metadata": {},
   "outputs": [
    {
     "name": "stdout",
     "output_type": "stream",
     "text": [
      "dict_values(['Naveen', 21, 800000])\n"
     ]
    }
   ],
   "source": [
    "#To know all the values in the dictionary\n",
    "employee = {\"Name\" : \"Naveen\", \"Age\" : 21, \"Salary\" : 800000}\n",
    "print(employee.values())"
   ]
  },
  {
   "cell_type": "code",
   "execution_count": 8,
   "id": "7dbb696a",
   "metadata": {},
   "outputs": [
    {
     "name": "stdout",
     "output_type": "stream",
     "text": [
      "dict_items([('Name', 'Naveen'), ('Age', 21), ('Salary', 800000)])\n"
     ]
    }
   ],
   "source": [
    "#To know all the keys and values of the dictionary\n",
    "employee = {\"Name\" : \"Naveen\", \"Age\" : 21, \"Salary\" : 800000}\n",
    "print(employee.items())"
   ]
  },
  {
   "cell_type": "code",
   "execution_count": 9,
   "id": "72f2e7de",
   "metadata": {},
   "outputs": [
    {
     "name": "stdout",
     "output_type": "stream",
     "text": [
      "{'Name': 'Naveen', 'Age': '22', 'Salary': 800000}\n"
     ]
    }
   ],
   "source": [
    "#To update the value of the dictionary\n",
    "employee = {\"Name\" : \"Naveen\", \"Age\" : 21, \"Salary\" : 800000}\n",
    "employee[\"Age\"] = \"22\"\n",
    "print(employee)"
   ]
  },
  {
   "cell_type": "code",
   "execution_count": 10,
   "id": "c252260f",
   "metadata": {},
   "outputs": [
    {
     "name": "stdout",
     "output_type": "stream",
     "text": [
      "{}\n"
     ]
    }
   ],
   "source": [
    "#To clear the dictionary\n",
    "employee = {\"Name\" : \"Naveen\", \"Age\" : 21, \"Salary\" : 800000}\n",
    "employee.clear()\n",
    "print(employee)"
   ]
  },
  {
   "attachments": {},
   "cell_type": "markdown",
   "id": "e4ff3d51",
   "metadata": {},
   "source": [
    "# Control Statement\n",
    "    -> if statements\n",
    "    -> if else statements\n",
    "    -> elif statements"
   ]
  },
  {
   "cell_type": "code",
   "execution_count": 19,
   "id": "f8c5c207",
   "metadata": {},
   "outputs": [
    {
     "name": "stdout",
     "output_type": "stream",
     "text": [
      "Welcome,  Naveen\n"
     ]
    }
   ],
   "source": [
    "name = \"Naveen\"\n",
    "if name == \"Naveen\":\n",
    "    print(\"Welcome, \",name)\n",
    "else:\n",
    "    print(\"Welcome, what is your name\")"
   ]
  },
  {
   "cell_type": "code",
   "execution_count": 23,
   "id": "a984e37e",
   "metadata": {},
   "outputs": [
    {
     "name": "stdout",
     "output_type": "stream",
     "text": [
      "Enter the name: Edi\n",
      "Welcome, what is your name...\n"
     ]
    }
   ],
   "source": [
    "name = input(\"Enter the name: \")\n",
    "if name == \"Naveen\":\n",
    "    print(\"Welcome, \",name)\n",
    "elif name == \"Kumar\":\n",
    "    print(\"Welcome\", name)\n",
    "else:\n",
    "    print(\"Welcome, what is your name...\")"
   ]
  },
  {
   "cell_type": "code",
   "execution_count": 1,
   "id": "13c5c80b",
   "metadata": {},
   "outputs": [
    {
     "name": "stdout",
     "output_type": "stream",
     "text": [
      "Enter the name: Naveen\n",
      "Enter the age: 21\n",
      "Qualified...\n"
     ]
    }
   ],
   "source": [
    "name = input(\"Enter the name: \")\n",
    "age = int(input(\"Enter the age: \"))\n",
    "if name == \"Naveen\" and age == 21:\n",
    "    print(\"Qualified...\")\n",
    "elif name == \"Kumar\" and age == 22:\n",
    "    print(\"Qualified...\")\n",
    "else:\n",
    "    print(\"Sorry, you are not qualified...\")"
   ]
  },
  {
   "cell_type": "code",
   "execution_count": 5,
   "id": "3c9af8ae",
   "metadata": {},
   "outputs": [
    {
     "name": "stdout",
     "output_type": "stream",
     "text": [
      "Enter the age: 21\n",
      "eligible\n"
     ]
    }
   ],
   "source": [
    "age = int(input(\"Enter the age: \"))\n",
    "if not age < 18:\n",
    "    print(\"eligible\")"
   ]
  },
  {
   "attachments": {},
   "cell_type": "markdown",
   "id": "b2d6bc0a",
   "metadata": {},
   "source": [
    "# Loop\n",
    "    -> It is used to repeat some progress again and again \n",
    "    -> There are two loops in python\n",
    "    -> for loop\n",
    "    -> while loop"
   ]
  },
  {
   "attachments": {},
   "cell_type": "markdown",
   "id": "d8c2c9d2",
   "metadata": {},
   "source": [
    "# For loop"
   ]
  },
  {
   "cell_type": "code",
   "execution_count": 6,
   "id": "a10255f9",
   "metadata": {},
   "outputs": [
    {
     "name": "stdout",
     "output_type": "stream",
     "text": [
      "0\n",
      "1\n",
      "2\n",
      "3\n",
      "4\n",
      "5\n",
      "6\n",
      "7\n",
      "8\n",
      "9\n"
     ]
    }
   ],
   "source": [
    "for i in range(10):\n",
    "    print(i)"
   ]
  },
  {
   "cell_type": "code",
   "execution_count": 7,
   "id": "f8fde357",
   "metadata": {},
   "outputs": [
    {
     "name": "stdout",
     "output_type": "stream",
     "text": [
      "1\n",
      "2\n",
      "3\n",
      "4\n",
      "5\n",
      "6\n",
      "7\n",
      "8\n",
      "9\n"
     ]
    }
   ],
   "source": [
    "for i in range(1, 10):\n",
    "    print(i)"
   ]
  },
  {
   "cell_type": "code",
   "execution_count": 8,
   "id": "910f8052",
   "metadata": {},
   "outputs": [
    {
     "name": "stdout",
     "output_type": "stream",
     "text": [
      "1\n",
      "2\n",
      "3\n",
      "4\n",
      "5\n",
      "6\n",
      "7\n",
      "8\n",
      "9\n"
     ]
    }
   ],
   "source": [
    "for i in range(1, 10, 1):\n",
    "    print(i)"
   ]
  },
  {
   "cell_type": "code",
   "execution_count": 9,
   "id": "ec0ad84a",
   "metadata": {},
   "outputs": [
    {
     "name": "stdout",
     "output_type": "stream",
     "text": [
      "1\n",
      "3\n",
      "5\n",
      "7\n",
      "9\n"
     ]
    }
   ],
   "source": [
    "for i in range(1, 10, 2):\n",
    "    print(i)"
   ]
  },
  {
   "cell_type": "code",
   "execution_count": 11,
   "id": "a9508680",
   "metadata": {},
   "outputs": [
    {
     "name": "stdout",
     "output_type": "stream",
     "text": [
      "10\n",
      "9\n",
      "8\n",
      "7\n",
      "6\n",
      "5\n",
      "4\n",
      "3\n",
      "2\n",
      "1\n",
      "0\n",
      "-1\n",
      "-2\n",
      "-3\n",
      "-4\n",
      "-5\n",
      "-6\n",
      "-7\n",
      "-8\n",
      "-9\n",
      "-10\n"
     ]
    }
   ],
   "source": [
    "for i in range(10, -11, -1):\n",
    "    print(i)"
   ]
  },
  {
   "cell_type": "code",
   "execution_count": 12,
   "id": "8af09229",
   "metadata": {},
   "outputs": [
    {
     "name": "stdout",
     "output_type": "stream",
     "text": [
      "10\n",
      "9\n",
      "8\n",
      "7\n",
      "6\n",
      "5\n",
      "4\n",
      "3\n",
      "2\n",
      "1\n",
      "-1\n",
      "-2\n",
      "-3\n",
      "-4\n",
      "-5\n",
      "-6\n",
      "-7\n",
      "-8\n",
      "-9\n",
      "-10\n"
     ]
    }
   ],
   "source": [
    "for i in range(10, -11, -1):\n",
    "    if i == 0:\n",
    "        continue\n",
    "    print(i)"
   ]
  },
  {
   "cell_type": "code",
   "execution_count": 3,
   "id": "e7bc6cd5",
   "metadata": {},
   "outputs": [
    {
     "name": "stdout",
     "output_type": "stream",
     "text": [
      "10\n",
      "9\n",
      "8\n",
      "7\n",
      "6\n",
      "5\n",
      "4\n",
      "3\n",
      "2\n",
      "1\n"
     ]
    }
   ],
   "source": [
    "for i in range(10, -11, -1):\n",
    "    if i == 0:\n",
    "        break\n",
    "    print(i)"
   ]
  },
  {
   "attachments": {},
   "cell_type": "markdown",
   "id": "6196ab63",
   "metadata": {},
   "source": [
    "# While loop"
   ]
  },
  {
   "cell_type": "code",
   "execution_count": 2,
   "id": "d1918687",
   "metadata": {},
   "outputs": [
    {
     "name": "stdout",
     "output_type": "stream",
     "text": [
      "0\n",
      "1\n",
      "2\n",
      "3\n",
      "4\n",
      "5\n",
      "6\n",
      "7\n",
      "8\n",
      "9\n",
      "10\n"
     ]
    }
   ],
   "source": [
    "i = 0\n",
    "while i <= 10:\n",
    "    print(i)\n",
    "    i+=1"
   ]
  },
  {
   "cell_type": "code",
   "execution_count": 4,
   "id": "c3229976",
   "metadata": {},
   "outputs": [
    {
     "name": "stdout",
     "output_type": "stream",
     "text": [
      "0\n",
      "1\n",
      "2\n",
      "3\n",
      "4\n",
      "6\n",
      "7\n",
      "8\n",
      "9\n",
      "10\n"
     ]
    }
   ],
   "source": [
    "i = 0\n",
    "while i <= 10:\n",
    "    if i == 5:\n",
    "        i+=1\n",
    "        continue\n",
    "    print(i)\n",
    "    i+=1"
   ]
  },
  {
   "cell_type": "code",
   "execution_count": 5,
   "id": "b150d7e3",
   "metadata": {},
   "outputs": [
    {
     "name": "stdout",
     "output_type": "stream",
     "text": [
      "0\n",
      "1\n",
      "2\n",
      "3\n",
      "4\n"
     ]
    }
   ],
   "source": [
    "i = 0\n",
    "while i <= 10:\n",
    "    if i == 5:\n",
    "        i+=1\n",
    "        break\n",
    "    print(i)\n",
    "    i+=1"
   ]
  },
  {
   "attachments": {},
   "cell_type": "markdown",
   "id": "10105728",
   "metadata": {},
   "source": [
    "# Functions\n",
    "    -> It is a set of specific instructions used to carry out some specific tasks\n",
    "    -> It is a set of instructions bounded or packed together to do some specific task"
   ]
  },
  {
   "cell_type": "code",
   "execution_count": 6,
   "id": "3b0c0c84",
   "metadata": {},
   "outputs": [
    {
     "name": "stdout",
     "output_type": "stream",
     "text": [
      "Inside the function\n"
     ]
    }
   ],
   "source": [
    "def func():\n",
    "    print(\"Inside the function\")\n",
    "    \n",
    "func()"
   ]
  },
  {
   "cell_type": "code",
   "execution_count": 8,
   "id": "f1267893",
   "metadata": {},
   "outputs": [
    {
     "name": "stdout",
     "output_type": "stream",
     "text": [
      "Enter the num1 :21\n",
      "Enter the num2 :12\n",
      "33\n"
     ]
    }
   ],
   "source": [
    "num1 = int(input(\"Enter the num1 :\"))\n",
    "num2 = int(input(\"Enter the num2 :\"))\n",
    "def sum(n1, n2):\n",
    "    sum = 0\n",
    "    sum = n1+n2\n",
    "    print(sum)\n",
    "    \n",
    "sum(num1, num2)"
   ]
  },
  {
   "cell_type": "code",
   "execution_count": 10,
   "id": "25d470c1",
   "metadata": {},
   "outputs": [
    {
     "name": "stdout",
     "output_type": "stream",
     "text": [
      "Enter the num1 :12\n",
      "Enter the num2 :21\n",
      "33\n"
     ]
    }
   ],
   "source": [
    "num1 = int(input(\"Enter the num1 :\"))\n",
    "num2 = int(input(\"Enter the num2 :\"))\n",
    "def sum(n1, n2):\n",
    "    sum = 0\n",
    "    sum = n1+n2\n",
    "    return sum\n",
    "    \n",
    "print(sum(num1, num2))"
   ]
  },
  {
   "cell_type": "code",
   "execution_count": 4,
   "id": "5376d188",
   "metadata": {},
   "outputs": [
    {
     "name": "stdout",
     "output_type": "stream",
     "text": [
      "<class 'tuple'>\n",
      "45\n"
     ]
    }
   ],
   "source": [
    "#To pass n number of arguments to function\n",
    "def sumofno(*v):\n",
    "    print(type(v))\n",
    "    sum = 0\n",
    "    for i in v:\n",
    "        sum = sum + i\n",
    "    return sum\n",
    "\n",
    "print(sumofno(1,2,3,4,5,6,7,8,9,0))"
   ]
  },
  {
   "cell_type": "code",
   "execution_count": 5,
   "id": "96ea8cf0",
   "metadata": {},
   "outputs": [
    {
     "name": "stdout",
     "output_type": "stream",
     "text": [
      "<class 'tuple'>\n",
      "45\n"
     ]
    }
   ],
   "source": [
    "#To pass n number of arguments to function\n",
    "def sumofno(*v):\n",
    "    print(type(v))\n",
    "    return sum(v)\n",
    "\n",
    "print(sumofno(1,2,3,4,5,6,7,8,9,0))"
   ]
  },
  {
   "cell_type": "code",
   "execution_count": 10,
   "id": "4ca8ab88",
   "metadata": {},
   "outputs": [
    {
     "name": "stdout",
     "output_type": "stream",
     "text": [
      "<class 'dict'>\n",
      "FirstName is Naveen\n",
      "LastName is kumar\n",
      "Age is 21\n"
     ]
    }
   ],
   "source": [
    "def p_all(**kw):\n",
    "    print(type(kw))\n",
    "    for k, v in kw.items():\n",
    "        print(f\"{k} is {v}\")\n",
    "    \n",
    "p_all(FirstName = \"Naveen\", LastName = \"kumar\", Age= 21)"
   ]
  },
  {
   "cell_type": "code",
   "execution_count": 9,
   "id": "f43945ab",
   "metadata": {},
   "outputs": [
    {
     "name": "stdout",
     "output_type": "stream",
     "text": [
      "<class 'dict'>\n",
      "FirstName is Naveen\n",
      "LastName is kumar\n",
      "Age is 21\n"
     ]
    }
   ],
   "source": [
    "def p_all(**kw):\n",
    "    print(type(kw))\n",
    "    for k, v in kw.items():\n",
    "        print(f\"{k} is {v}\")\n",
    "    \n",
    "dict_ = {'FirstName' : 'Naveen', 'LastName' : 'kumar', 'Age' : 21}\n",
    "p_all(**dict_)"
   ]
  },
  {
   "cell_type": "code",
   "execution_count": 21,
   "id": "734baec0",
   "metadata": {},
   "outputs": [
    {
     "name": "stdout",
     "output_type": "stream",
     "text": [
      "<class 'tuple'>\n",
      "<class 'dict'>\n",
      "1\n",
      "2\n",
      "3\n",
      "4\n",
      "5\n",
      "6\n",
      "Total sum is:  21\n",
      "FirstName is Naveen\n",
      "LastName is kumar\n",
      "Age is 21\n"
     ]
    }
   ],
   "source": [
    "def b_type(*v, **kw):\n",
    "    print(type(v))\n",
    "    print(type(kw))\n",
    "    sum = 0\n",
    "    for i in v:\n",
    "        print(i)\n",
    "    for i in v:\n",
    "        sum = sum + i\n",
    "    print(\"Total sum is: \", sum)\n",
    "    for k,w in kw.items():\n",
    "        print(f\"{k} is {w}\")\n",
    "    \n",
    "b_type(1,2,3,4,5,6,FirstName = \"Naveen\", LastName = \"kumar\", Age= 21) \n",
    "    "
   ]
  },
  {
   "cell_type": "code",
   "execution_count": 15,
   "id": "07fad97a",
   "metadata": {},
   "outputs": [
    {
     "name": "stdout",
     "output_type": "stream",
     "text": [
      "<class 'tuple'>\n",
      "<class 'dict'>\n",
      "1\n",
      "2\n",
      "3\n",
      "4\n",
      "5\n",
      "6\n",
      "Total sum is:  21\n",
      "FirstName is Naveen\n",
      "LastName is kumar\n",
      "Age is 21\n"
     ]
    }
   ],
   "source": [
    "def b_type(*v, **kw):\n",
    "    print(type(v))\n",
    "    print(type(kw))\n",
    "    sum = 0\n",
    "    for i in v:\n",
    "        print(i)\n",
    "    for i in v:\n",
    "        sum = sum + i\n",
    "    print(\"Total sum is: \", sum)\n",
    "    for k,w in kw.items():\n",
    "        print(f\"{k} is {w}\")\n",
    "    \n",
    "list_ = [1,2,3,4,5,6]\n",
    "dict_ = {'FirstName' : 'Naveen', 'LastName' : 'kumar', 'Age' : 21}\n",
    "b_type(*list_,**dict_) "
   ]
  },
  {
   "attachments": {},
   "cell_type": "markdown",
   "id": "8a907a2e",
   "metadata": {},
   "source": [
    "# Split Function"
   ]
  },
  {
   "cell_type": "code",
   "execution_count": 25,
   "id": "8160a955",
   "metadata": {},
   "outputs": [
    {
     "name": "stdout",
     "output_type": "stream",
     "text": [
      "Green Red Blue Yellow\n",
      "['Green', 'Red', 'Blue', 'Yellow']\n"
     ]
    }
   ],
   "source": [
    "str_clr = \"Green Red Blue Yellow\"\n",
    "print(str_clr)\n",
    "print(str_clr.split())"
   ]
  },
  {
   "cell_type": "code",
   "execution_count": 38,
   "id": "8c6cca6f",
   "metadata": {},
   "outputs": [
    {
     "name": "stdout",
     "output_type": "stream",
     "text": [
      "Green#Red#Blue#Yellow\n",
      "['Green', 'Red', 'Blue', 'Yellow']\n"
     ]
    }
   ],
   "source": [
    "str_clr = \"Green#Red#Blue#Yellow\"\n",
    "print(str_clr)\n",
    "str_ = str_clr.split(\"#\")\n",
    "print(str_)"
   ]
  },
  {
   "cell_type": "code",
   "execution_count": 22,
   "id": "4a48b24e",
   "metadata": {},
   "outputs": [
    {
     "name": "stdout",
     "output_type": "stream",
     "text": [
      "Green#Red#Blue#Yellow\n",
      "['Green', 'Red', 'Blue#Yellow']\n"
     ]
    }
   ],
   "source": [
    "str_clr = \"Green#Red#Blue#Yellow\"\n",
    "print(str_clr) \n",
    "print(str_clr.split(\"#\", 2))"
   ]
  },
  {
   "cell_type": "code",
   "execution_count": 47,
   "id": "6769caf1",
   "metadata": {},
   "outputs": [
    {
     "name": "stdout",
     "output_type": "stream",
     "text": [
      "Enter the string: This video is viral due to the person who was present in that video\n"
     ]
    },
    {
     "data": {
      "text/plain": [
       "['This',\n",
       " 'video',\n",
       " 'is',\n",
       " 'viral',\n",
       " 'due',\n",
       " 'to',\n",
       " 'the',\n",
       " 'person',\n",
       " 'who',\n",
       " 'was',\n",
       " 'present',\n",
       " 'in',\n",
       " 'that',\n",
       " 'video']"
      ]
     },
     "execution_count": 47,
     "metadata": {},
     "output_type": "execute_result"
    }
   ],
   "source": [
    "sentence = input(\"Enter the string: \").split()\n",
    "sentence\n"
   ]
  },
  {
   "attachments": {},
   "cell_type": "markdown",
   "id": "26920757",
   "metadata": {},
   "source": [
    "# Join Function\n",
    "    -> Used to convert the given list into string\n",
    "    \n",
    "    \n",
    "    "
   ]
  },
  {
   "cell_type": "code",
   "execution_count": 48,
   "id": "e2dd59c0",
   "metadata": {},
   "outputs": [
    {
     "name": "stdout",
     "output_type": "stream",
     "text": [
      "Hr Finance IT Admin\n"
     ]
    }
   ],
   "source": [
    "lst_dept = [\"Hr\", \"Finance\", \"IT\", \"Admin\"]\n",
    "str_dept = \" \".join(lst_dept)\n",
    "print(str_dept)"
   ]
  },
  {
   "cell_type": "code",
   "execution_count": 50,
   "id": "ef825ccf",
   "metadata": {},
   "outputs": [
    {
     "name": "stdout",
     "output_type": "stream",
     "text": [
      "Hr,   Finance,   IT,   Admin\n"
     ]
    }
   ],
   "source": [
    "lst_dept = [\"Hr\", \"Finance\", \"IT\", \"Admin\"]\n",
    "str_dept = \",   \".join(lst_dept)\n",
    "print(str_dept)"
   ]
  },
  {
   "attachments": {},
   "cell_type": "markdown",
   "id": "b6a94c02",
   "metadata": {},
   "source": [
    "# Zip Function\n",
    "    -> It is used to pack two or more object as a single object\n",
    "    -> It is not converted to list, tuple, set\n",
    "    -> Using Zip we can convert it to list, dict and generally transformed to tuple"
   ]
  },
  {
   "cell_type": "code",
   "execution_count": 2,
   "id": "14464373",
   "metadata": {},
   "outputs": [
    {
     "name": "stdout",
     "output_type": "stream",
     "text": [
      "[10, 10, 10, 10, 10, 10, 10, 10, 10]\n"
     ]
    }
   ],
   "source": [
    "lst1 = [1,2,3,4,5,6,7,8,9]\n",
    "lst2 = [9,8,7,6,5,4,3,2,1]\n",
    "lst3 = []\n",
    "\n",
    "val = zip(lst1, lst2)\n",
    "for val1, val2 in val:\n",
    "    lst3.append(val1 + val2)\n",
    "    \n",
    "print(lst3)"
   ]
  },
  {
   "cell_type": "code",
   "execution_count": 21,
   "id": "9cbf9e1c",
   "metadata": {},
   "outputs": [
    {
     "name": "stdout",
     "output_type": "stream",
     "text": [
      "{'Name': 'Naveenkumar', 'Age': 21, 'Salary': 1000000}\n"
     ]
    }
   ],
   "source": [
    "key = (\"Name\", \"Age\", \"Salary\")\n",
    "value = (\"Naveenkumar\", 21, 1000000)\n",
    "dict_val = dict(zip(key, value))\n",
    "print(dict_val)"
   ]
  },
  {
   "cell_type": "code",
   "execution_count": 22,
   "id": "58121849",
   "metadata": {},
   "outputs": [
    {
     "name": "stdout",
     "output_type": "stream",
     "text": [
      "{'Name': 'Naveenkumar', 'Age': 21, 'Salary': 1000000}\n"
     ]
    }
   ],
   "source": [
    "key = (\"Name\", \"Age\", \"Salary\")\n",
    "value = (\"Naveenkumar\", 21, 1000000)\n",
    "dict_val = {}\n",
    "\n",
    "for i, v in zip(key, value):\n",
    "    dict_val[i] = v\n",
    "\n",
    "print(dict_val)"
   ]
  },
  {
   "attachments": {},
   "cell_type": "markdown",
   "id": "e8dc4179",
   "metadata": {},
   "source": [
    "# Enumerate Function\n",
    "    -> Zip and Enum is used to pack the data into an object.\n",
    "    -> Then we can typecast to list, tuple, set, dictionary with the help of keyword"
   ]
  },
  {
   "cell_type": "code",
   "execution_count": 26,
   "id": "bb2f2f26",
   "metadata": {},
   "outputs": [
    {
     "name": "stdout",
     "output_type": "stream",
     "text": [
      "[(0, 'Hr'), (1, 'Finance'), (2, 'IT'), (3, 'Admin')]\n"
     ]
    }
   ],
   "source": [
    "dept = [\"Hr\", \"Finance\", \"IT\", \"Admin\"]\n",
    "print(list(enumerate(dept)))"
   ]
  },
  {
   "cell_type": "code",
   "execution_count": 27,
   "id": "c40f5d57",
   "metadata": {},
   "outputs": [
    {
     "name": "stdout",
     "output_type": "stream",
     "text": [
      "[(5, 'Hr'), (6, 'Finance'), (7, 'IT'), (8, 'Admin')]\n"
     ]
    }
   ],
   "source": [
    "dept = [\"Hr\", \"Finance\", \"IT\", \"Admin\"]\n",
    "print(list(enumerate(dept, start = 5)))"
   ]
  },
  {
   "cell_type": "code",
   "execution_count": 28,
   "id": "6ebeb510",
   "metadata": {},
   "outputs": [
    {
     "name": "stdout",
     "output_type": "stream",
     "text": [
      "0 is Hr\n",
      "1 is Finance\n",
      "2 is IT\n",
      "3 is Admin\n"
     ]
    }
   ],
   "source": [
    "dept = [\"Hr\", \"Finance\", \"IT\", \"Admin\"]\n",
    "for i, v in list(enumerate(dept)):\n",
    "    print(f\"{i} is {v}\")"
   ]
  },
  {
   "attachments": {},
   "cell_type": "markdown",
   "id": "0de05fb3",
   "metadata": {},
   "source": [
    "# List Comprehension"
   ]
  },
  {
   "cell_type": "code",
   "execution_count": 29,
   "id": "0cd9efc4",
   "metadata": {},
   "outputs": [
    {
     "name": "stdout",
     "output_type": "stream",
     "text": [
      "[1, 4, 9, 16, 25, 36, 49, 64, 81]\n"
     ]
    }
   ],
   "source": [
    "mylst = [ 1,2,3,4,5,6,7,8,9]\n",
    "sqlst = [i**2 for i in mylst]\n",
    "print(sqlst)"
   ]
  },
  {
   "cell_type": "code",
   "execution_count": 30,
   "id": "65f01408",
   "metadata": {},
   "outputs": [
    {
     "name": "stdout",
     "output_type": "stream",
     "text": [
      "[1, 4, 9, 16, 25, 36, 49, 64, 81]\n",
      "[1, 16, 81, 256, 625, 1296, 2401, 4096, 6561]\n"
     ]
    }
   ],
   "source": [
    "mylst = [ 1,2,3,4,5,6,7,8,9]\n",
    "sqlst = [i**2 for i in mylst]\n",
    "sqsqlst = [i**2 for i in sqlst]\n",
    "print(sqlst)\n",
    "print(sqsqlst)"
   ]
  },
  {
   "cell_type": "code",
   "execution_count": 55,
   "id": "00cc5303",
   "metadata": {},
   "outputs": [
    {
     "name": "stdout",
     "output_type": "stream",
     "text": [
      "[1, 16, 81, 256, 625, 1296, 2401, 4096, 6561]\n"
     ]
    }
   ],
   "source": [
    "#nested list comprehension\n",
    "mylst = [ 1,2,3,4,5,6,7,8,9]\n",
    "sqsqlst = [i**2 for i in [i**2 for i in mylst]]\n",
    "print(sqsqlst)"
   ]
  },
  {
   "cell_type": "code",
   "execution_count": 56,
   "id": "500e5cd5",
   "metadata": {},
   "outputs": [
    {
     "name": "stdout",
     "output_type": "stream",
     "text": [
      "[32.55555555555556, 33.111111111111114, 33.666666666666664, 34.22222222222222, 34.77777777777778, 35.333333333333336, 35.888888888888886, 36.44444444444444, 37.0]\n"
     ]
    }
   ],
   "source": [
    "#giving formulas inside the list comrehension\n",
    "celcius = [1,2,3,4,5,6,7,8,9]\n",
    "farenheit = [5/9*i+32 for i in celcius]\n",
    "print(farenheit)"
   ]
  },
  {
   "cell_type": "code",
   "execution_count": 57,
   "id": "957f4fad",
   "metadata": {},
   "outputs": [
    {
     "name": "stdout",
     "output_type": "stream",
     "text": [
      "[1, 4, 27, 16, 125, 36, 343, 64, 729]\n"
     ]
    }
   ],
   "source": [
    "#to print square of even number and cube for odd number\n",
    "mylst = [ 1,2,3,4,5,6,7,8,9]\n",
    "sq_cube_lst = [i**2 if i%2==0 else i**3 for i in mylst]\n",
    "print(sq_cube_lst)"
   ]
  },
  {
   "attachments": {},
   "cell_type": "markdown",
   "id": "01f4026d",
   "metadata": {},
   "source": [
    "# Set Comprehension\n",
    "    -> Both the list and set are same the only change is that the brackets used\n",
    "    -> for set we tend to use the {} braces"
   ]
  },
  {
   "attachments": {},
   "cell_type": "markdown",
   "id": "465e166c",
   "metadata": {},
   "source": [
    "# Dictionary Comprehension\n",
    "    "
   ]
  },
  {
   "cell_type": "code",
   "execution_count": 61,
   "id": "274fd47c",
   "metadata": {},
   "outputs": [
    {
     "name": "stdout",
     "output_type": "stream",
     "text": [
      "{'Maths': 190, 'Computer Science': 200, 'Physics': 180, 'Chemistry': 185}\n"
     ]
    }
   ],
   "source": [
    "key = ('Maths', 'Computer Science', 'Physics', 'Chemistry')\n",
    "value = [190, 200, 180, 185]\n",
    "dict_count = dict(zip(key, value))\n",
    "print(dict_count)"
   ]
  },
  {
   "cell_type": "code",
   "execution_count": 64,
   "id": "1d2da94b",
   "metadata": {},
   "outputs": [
    {
     "name": "stdout",
     "output_type": "stream",
     "text": [
      "{'Maths': 190, 'Computer Science': 200, 'Physics': 180, 'Chemistry': 185}\n",
      "{'Maths': 95, 'Computer Science': 100, 'Physics': 90, 'Chemistry': 92}\n"
     ]
    }
   ],
   "source": [
    "key = ('Maths', 'Computer Science', 'Physics', 'Chemistry')\n",
    "value = [190, 200, 180, 185]\n",
    "dict_count = dict(zip(key, value))\n",
    "dict_comp = { i : v//2 for i, v in zip(key, value)}\n",
    "print(dict_count)\n",
    "print(dict_comp)"
   ]
  },
  {
   "attachments": {},
   "cell_type": "markdown",
   "id": "9806641a",
   "metadata": {},
   "source": [
    "# Lambda Function\n",
    "    -> LAMBDA is an important thing in python.\n",
    "    -> It is used to create anonymous function called a function without the name.\n",
    "    -> It takes only one statement and cannot be reused, whereas function takes many statements and can be reused.\n",
    "    -> It can be used as a substitute of single line statements."
   ]
  },
  {
   "cell_type": "code",
   "execution_count": 65,
   "id": "c3f440e8",
   "metadata": {},
   "outputs": [
    {
     "name": "stdout",
     "output_type": "stream",
     "text": [
      "100\n"
     ]
    }
   ],
   "source": [
    "def sq(num):\n",
    "    return num**2\n",
    "\n",
    "print(sq(10))"
   ]
  },
  {
   "cell_type": "code",
   "execution_count": 23,
   "id": "6bca354f",
   "metadata": {},
   "outputs": [
    {
     "name": "stdout",
     "output_type": "stream",
     "text": [
      "100\n"
     ]
    }
   ],
   "source": [
    "sq = lambda num: num**2\n",
    "print(sq(10))"
   ]
  },
  {
   "attachments": {},
   "cell_type": "markdown",
   "id": "8bc9ff0c",
   "metadata": {},
   "source": [
    "# Map Function\n",
    "    -> It is used to map an function to an iterable object."
   ]
  },
  {
   "attachments": {},
   "cell_type": "markdown",
   "id": "8bd35ddd",
   "metadata": {},
   "source": [
    "## Problem related to Numbers"
   ]
  },
  {
   "cell_type": "code",
   "execution_count": 4,
   "id": "a7a2926d",
   "metadata": {},
   "outputs": [
    {
     "name": "stdout",
     "output_type": "stream",
     "text": [
      "Positive\n"
     ]
    }
   ],
   "source": [
    "# Positive or Negative number\n",
    "\n",
    "num = int(input(\"Enter the Integer : \"))\n",
    "if num>0:\n",
    "    print(\"Positive\")\n",
    "else:\n",
    "    print(\"Negative\")"
   ]
  },
  {
   "cell_type": "code",
   "execution_count": 6,
   "id": "0ff07170",
   "metadata": {},
   "outputs": [
    {
     "name": "stdout",
     "output_type": "stream",
     "text": [
      "Even\n"
     ]
    }
   ],
   "source": [
    "# Even or Odd\n",
    "\n",
    "num = int(input(\"Enter the Integer : \"))\n",
    "if num%2 == 0:\n",
    "    print(\"Even\")\n",
    "else:\n",
    "    print(\"Odd\")"
   ]
  },
  {
   "cell_type": "code",
   "execution_count": 12,
   "id": "f935ee54",
   "metadata": {},
   "outputs": [
    {
     "name": "stdout",
     "output_type": "stream",
     "text": [
      "55\n"
     ]
    }
   ],
   "source": [
    "#Sum of First N numbers\n",
    "\n",
    "num = int(input(\"Enter the Integer: \"))\n",
    "sum = 0 \n",
    "for i in range(1,num+1):\n",
    "    sum += i\n",
    "\n",
    "print(sum)"
   ]
  },
  {
   "cell_type": "code",
   "execution_count": 13,
   "id": "2143e42f",
   "metadata": {},
   "outputs": [
    {
     "name": "stdout",
     "output_type": "stream",
     "text": [
      "144\n"
     ]
    }
   ],
   "source": [
    "#sum of number in a given range\n",
    "\n",
    "st = int(input(\"Enter the Start Integer: \"))\n",
    "end = int(input(\"Enter the End Integer: \"))\n",
    "sum = 0 \n",
    "for i in range(st,end+1):\n",
    "    sum += i\n",
    "\n",
    "print(sum)"
   ]
  },
  {
   "cell_type": "code",
   "execution_count": 18,
   "id": "15780b47",
   "metadata": {},
   "outputs": [
    {
     "name": "stdout",
     "output_type": "stream",
     "text": [
      "23 is Greater\n"
     ]
    }
   ],
   "source": [
    "#greatest of Two Numbers:\n",
    "\n",
    "num1 = int(input(\"Enter the numbers: \"))\n",
    "num2 = int(input(\"Enter the numbers: \"))\n",
    "if num1 > num2:\n",
    "    print(f\"{num1} is Greater\")\n",
    "else:\n",
    "    print(f\"{num2} is Greater\")"
   ]
  },
  {
   "cell_type": "code",
   "execution_count": 2,
   "id": "48d19b6b",
   "metadata": {},
   "outputs": [
    {
     "name": "stdout",
     "output_type": "stream",
     "text": [
      "21 is Greater\n"
     ]
    }
   ],
   "source": [
    "#greatest of three numbers:\n",
    "\n",
    "num1 = int(input(\"Enter the numbers: \"))\n",
    "num2 = int(input(\"Enter the numbers: \"))\n",
    "num3 = int(input(\"Enter the number: \"))\n",
    "if num1 > num2 and num1>num3:\n",
    "    print(f\"{num1} is Greater\")\n",
    "elif num2 > num1 and num2 > num3:\n",
    "    print(f\"{num2} is Greater\")\n",
    "else:\n",
    "    print(f\"{num3} is greater\")"
   ]
  },
  {
   "cell_type": "code",
   "execution_count": 10,
   "id": "c23dc637",
   "metadata": {},
   "outputs": [
    {
     "name": "stdout",
     "output_type": "stream",
     "text": [
      "2000 is a Leap Year\n"
     ]
    }
   ],
   "source": [
    "#Leap year or not\n",
    "\n",
    "year = int(input(\"Enter the Year: \"))\n",
    "\n",
    "if (year%400 == 0) or (year%4==0 and year%100!=0):\n",
    "    print(f\"{year} is a Leap Year\")\n",
    "else:\n",
    "    print(f\"{year} is not a Leap Year\")"
   ]
  },
  {
   "cell_type": "code",
   "execution_count": 5,
   "id": "60363195",
   "metadata": {},
   "outputs": [
    {
     "name": "stdout",
     "output_type": "stream",
     "text": [
      "It is prime\n"
     ]
    }
   ],
   "source": [
    "#prime number\n",
    "\n",
    "num = int(input(\"Enter the number: \"))\n",
    "fact = 1\n",
    "for i in range(2, num):\n",
    "    if (num%i == 0):\n",
    "        fact += 1\n",
    "        \n",
    "if fact == 1:\n",
    "    print(\"It is prime\")\n",
    "else:\n",
    "    print(\"Not Prime\")"
   ]
  },
  {
   "cell_type": "code",
   "execution_count": 12,
   "id": "260c8856",
   "metadata": {},
   "outputs": [
    {
     "name": "stdout",
     "output_type": "stream",
     "text": [
      "[2, 3, 5, 7]\n"
     ]
    }
   ],
   "source": [
    "#prime number within range\n",
    "\n",
    "num1 = int(input(\"Enter the Start number: \"))\n",
    "num2 = int(input(\"Enter the End number: \"))\n",
    "primes = []\n",
    "\n",
    "for i in range(num1, num2+1): \n",
    "    fact = 0\n",
    "    for j in range(2, i): \n",
    "        if (i%j == 0): \n",
    "            fact = 1\n",
    "\n",
    "    if fact == 0:\n",
    "        primes.append(i)\n",
    "    \n",
    "print(primes)\n",
    "    "
   ]
  },
  {
   "cell_type": "code",
   "execution_count": 15,
   "id": "fb5fe2e5",
   "metadata": {},
   "outputs": [
    {
     "name": "stdout",
     "output_type": "stream",
     "text": [
      "15\n"
     ]
    }
   ],
   "source": [
    "#Sum of digits of the Number\n",
    "\n",
    "num = int(input(\"Enter the Number: \"))\n",
    "sum = 0\n",
    "while num != 0:\n",
    "    digit = int(num%10)\n",
    "    sum += digit\n",
    "    num = num/10\n",
    "\n",
    "print(sum)"
   ]
  },
  {
   "cell_type": "code",
   "execution_count": 3,
   "id": "3ae1a5a6",
   "metadata": {},
   "outputs": [
    {
     "name": "stdout",
     "output_type": "stream",
     "text": [
      "654321\n"
     ]
    }
   ],
   "source": [
    "#Reverse of the Number\n",
    "\n",
    "num = int(input())\n",
    "reverse = 0\n",
    "while num!=0:\n",
    "    digit = num%10\n",
    "    reverse = (reverse*10) + digit\n",
    "    num = num //10\n",
    "\n",
    "print(reverse)"
   ]
  },
  {
   "cell_type": "code",
   "execution_count": 7,
   "id": "77853d18",
   "metadata": {},
   "outputs": [
    {
     "name": "stdout",
     "output_type": "stream",
     "text": [
      "It is palindrome\n"
     ]
    }
   ],
   "source": [
    "''' Palindrome or not\n",
    "The Numbers that when reversed is the same as the original number itself are known as Palindromic Numbers.'''\n",
    "\n",
    "num = int(input(\"Enter the number: \"))\n",
    "temp = num\n",
    "sum = 0\n",
    "while num != 0:\n",
    "    sum = (sum*10) + (num%10)\n",
    "    num = num//10\n",
    "    \n",
    "if sum == temp:\n",
    "    print(\"It is palindrome\")\n",
    "else:\n",
    "    print(\"Not a Palindrome\")"
   ]
  },
  {
   "cell_type": "code",
   "execution_count": 13,
   "id": "0e6c50e0",
   "metadata": {},
   "outputs": [
    {
     "name": "stdout",
     "output_type": "stream",
     "text": [
      "It is Armstrong\n"
     ]
    }
   ],
   "source": [
    "'''Armstrong Number or Not\n",
    "The Numbers that can be represented ad the sum of the digits raised to the power of the number of digits in the number are called Armstrong numbers.\n",
    "'''\n",
    "\n",
    "num = int(input())\n",
    "temp = len(str(num))\n",
    "stat = num\n",
    "sum = 0\n",
    "while num != 0:\n",
    "    reverse = num % 10\n",
    "    sum += reverse**temp\n",
    "    num = num//10\n",
    "\n",
    "if stat == sum:\n",
    "    print(\"It is Armstrong\")\n",
    "else:\n",
    "    print(\"It is not Armstrong\")"
   ]
  },
  {
   "cell_type": "code",
   "execution_count": 19,
   "id": "e64a4170",
   "metadata": {},
   "outputs": [
    {
     "name": "stdout",
     "output_type": "stream",
     "text": [
      "[153, 370, 371, 407]\n"
     ]
    }
   ],
   "source": [
    "#Armstrong number in the given range\n",
    "\n",
    "low = int(input(\"Enter the Lower value\"))\n",
    "high = int(input(\"Enter the Higher value\"))\n",
    "Armstrong = []\n",
    "for i in range(low, high+1): \n",
    "    temp = len(str(i))\n",
    "    stat = i\n",
    "    sum = 0\n",
    "    while i != 0:\n",
    "        rev = i%10 \n",
    "        sum += rev**temp\n",
    "        i = i//10\n",
    "\n",
    "    if stat == sum:\n",
    "        Armstrong.append(stat)\n",
    "\n",
    "print(Armstrong)"
   ]
  },
  {
   "cell_type": "code",
   "execution_count": 41,
   "id": "28b24aeb",
   "metadata": {},
   "outputs": [
    {
     "name": "stdout",
     "output_type": "stream",
     "text": [
      "0 1 1 2 3 5 8 13 21 34 "
     ]
    }
   ],
   "source": [
    "'''Fibonacci Series upto n'th term\n",
    "It’s a unique sequence where the next number is the sum of previous two numbers.\n",
    "Where the first two terms are always 0 and 1'''\n",
    "\n",
    "limit = int(input(\"Enter the limit :\"))\n",
    "\n",
    "n1 = 0\n",
    "n2 = 1\n",
    "print(n1, n2, end = \" \")\n",
    "for i in range(2, limit):\n",
    "    n3 = n1 + n2\n",
    "    n1 = n2\n",
    "    n2 = n3\n",
    "    print(n3, end= \" \")\n"
   ]
  },
  {
   "cell_type": "code",
   "execution_count": 34,
   "id": "a2592681",
   "metadata": {},
   "outputs": [
    {
     "name": "stdout",
     "output_type": "stream",
     "text": [
      "3628800\n"
     ]
    }
   ],
   "source": [
    "#Factorial of a Number\n",
    "\n",
    "num = int(input(\"Enter the number to get the Factorial :\"))\n",
    "fact = 1\n",
    "for i in range(num, 1, -1):\n",
    "    fact *= i\n",
    "\n",
    "print(fact)\n"
   ]
  },
  {
   "cell_type": "code",
   "execution_count": 42,
   "id": "491b674e",
   "metadata": {},
   "outputs": [
    {
     "name": "stdout",
     "output_type": "stream",
     "text": [
      "8\n"
     ]
    }
   ],
   "source": [
    "# Program to find Power of a Number\n",
    "\n",
    "base = int(input(\"Enter the base Value:\"))\n",
    "power = int(input(\"Enter the Power value: \"))\n",
    "\n",
    "print(base ** power)"
   ]
  },
  {
   "cell_type": "code",
   "execution_count": 44,
   "id": "f1b33fb2",
   "metadata": {},
   "outputs": [
    {
     "name": "stdout",
     "output_type": "stream",
     "text": [
      "1 is factor of 10\n",
      "2 is factor of 10\n",
      "5 is factor of 10\n"
     ]
    }
   ],
   "source": [
    "# Factor of a Number\n",
    "\n",
    "num = int(input(\"Enter the Number to get the Factor of it: \"))\n",
    "\n",
    "for i in range(1, num):\n",
    "    iter = num%i \n",
    "    if iter == 0:\n",
    "        print(f\"{i} is factor of {num}\")"
   ]
  },
  {
   "cell_type": "code",
   "execution_count": 62,
   "id": "761568e0",
   "metadata": {},
   "outputs": [
    {
     "name": "stdout",
     "output_type": "stream",
     "text": [
      "It is Strong Number\n"
     ]
    }
   ],
   "source": [
    "''' Strong Number or Not\n",
    "A Number that is equal to the sum of the factorial of it's individual digits is known as Strong Number.'''\n",
    "\n",
    "num = int(input(\"Enter the Number: \")) # 145\n",
    "temp = num # 145=145\n",
    "sum = 0\n",
    "sum1 = 0\n",
    "\n",
    "while num>0: # 145>0 ; 14>0 ; 1>0\n",
    "    rev = num%10 # 145%10 = 5 ; 14%10 = 4 ;\n",
    "    fact = 1\n",
    "    for i in range (rev, 1, -1): # 5, 4, 3, 2 ; 4, 3, 2\n",
    "        fact *= i #120 ; 24 ;\n",
    "    sum += fact # 0+=120 = 120 ; 120+=24 = 144 ;\n",
    "    num = num//10 # 145//10 = 14 ; 14//10 = 1\n",
    "if sum == temp:\n",
    "    print(\"It is Strong Number\")\n",
    "else:\n",
    "    print(\"Not a Strong Number\")"
   ]
  },
  {
   "cell_type": "code",
   "execution_count": 71,
   "id": "c8a065b2",
   "metadata": {},
   "outputs": [
    {
     "name": "stdout",
     "output_type": "stream",
     "text": [
      "28 is a Strong Number\n"
     ]
    }
   ],
   "source": [
    "''' Perfect Number or Not\n",
    "A Number that can be represented as the sum of all the factors of the number is known as a Perfect Number.'''\n",
    "\n",
    "num = int(input(\"Enter the Number : \")) # 6\n",
    "sum = 0\n",
    "for i  in range(1, num): # 1,2,3,4,5\n",
    "    if num%i == 0: # 6%1 == 0  ; 6%2 == 0 ; 6%3 == 0 ; 6%3 == 0 => Condition Fails ;\n",
    "        sum += i # 0 += 1 = 1; 1 += 2 = 3 ; 3 += 3 = 6 ;\n",
    "\n",
    "if num == sum:\n",
    "    print(sum , \"is a Strong Number\")"
   ]
  },
  {
   "cell_type": "code",
   "execution_count": 92,
   "id": "d28194b4",
   "metadata": {},
   "outputs": [
    {
     "name": "stdout",
     "output_type": "stream",
     "text": [
      "running second loop\n",
      "It is Automorphic Number\n"
     ]
    }
   ],
   "source": [
    "''' Automorphic Number or Not\n",
    "A number whose square ends with the same number is known as an Automorphic number.'''\n",
    "\n",
    "num = int(input(\"Enter the number : \")) # 76\n",
    "\n",
    "if num<10:\n",
    "    sq = num**2\n",
    "    rem = sq%10\n",
    "    print(\"running first loop\")\n",
    "    if num == rem:\n",
    "        print(\"It is Automorphic Number\")\n",
    "    else:\n",
    "        print(\"It is not Automorphic Number\")\n",
    "elif num<=100:\n",
    "    sq = num**2\n",
    "    rem = sq%100\n",
    "    print(\"running second loop\")\n",
    "    if num == rem:\n",
    "        print(\"It is Automorphic Number\")\n",
    "    else:\n",
    "        print(\"It is not Automorphic Number\")\n",
    "\n"
   ]
  },
  {
   "cell_type": "code",
   "execution_count": 93,
   "id": "66b4203a",
   "metadata": {},
   "outputs": [
    {
     "name": "stdout",
     "output_type": "stream",
     "text": [
      "running second loop\n",
      "It is Automorphic Number\n"
     ]
    }
   ],
   "source": [
    "# Automorphic Number or Not\n",
    "\n",
    "num = int(input(\"Enter the number : \")) # 5\n",
    "\n",
    "if num<10:\n",
    "    sq = num**2\n",
    "    rem = sq%10\n",
    "    print(\"running first loop\")\n",
    "    if num == rem:\n",
    "        print(\"It is Automorphic Number\")\n",
    "    else:\n",
    "        print(\"It is not Automorphic Number\")\n",
    "elif num<=100:\n",
    "    sq = num**2\n",
    "    rem = sq%100\n",
    "    print(\"running second loop\")\n",
    "    if num == rem:\n",
    "        print(\"It is Automorphic Number\")\n",
    "    else:\n",
    "        print(\"It is not Automorphic Number\")\n",
    "\n"
   ]
  },
  {
   "cell_type": "code",
   "execution_count": 3,
   "id": "ca59213a",
   "metadata": {},
   "outputs": [
    {
     "name": "stdout",
     "output_type": "stream",
     "text": [
      "408 is a Harshad Number\n"
     ]
    }
   ],
   "source": [
    "''' Harshad Number\n",
    "A Number that is divisible by the sum of it's digits is known as a Harshad number.'''\n",
    "\n",
    "num = int(input(\"Enter the input : \"))\n",
    "temp = num\n",
    "sum = 0\n",
    "while num>0:\n",
    "    rem = num%10\n",
    "    sum += rem\n",
    "    num = num//10\n",
    "\n",
    "if temp%sum == 0:\n",
    "    print(f\"{temp} is a Harshad Number\")\n",
    "else:\n",
    "    print(\"Not a Harshad Number\")"
   ]
  },
  {
   "cell_type": "code",
   "execution_count": 5,
   "id": "8b7cff28",
   "metadata": {},
   "outputs": [
    {
     "name": "stdout",
     "output_type": "stream",
     "text": [
      "12 is a Abundant Number\n"
     ]
    }
   ],
   "source": [
    "''' Abundant Number\n",
    "A Number that is smaller than the sum of all \n",
    "it's factors except the number itself is known \n",
    "as an Abundant number.'''\n",
    "\n",
    "num = int(input(\"Enter the Number:\"))\n",
    "temp = num\n",
    "sum = 0\n",
    "for i in range (2, num):\n",
    "    if (temp%i == 0):\n",
    "        sum += i\n",
    "\n",
    "if temp < sum:\n",
    "    print(f\"{temp} is a Abundant Number\")\n",
    "else:\n",
    "    print(f\"{temp} is not a Abundant Number\")"
   ]
  },
  {
   "cell_type": "code",
   "execution_count": 7,
   "id": "1eb49480",
   "metadata": {},
   "outputs": [
    {
     "name": "stdout",
     "output_type": "stream",
     "text": [
      "12 is the HCF of 36 and 60\n"
     ]
    }
   ],
   "source": [
    "'''HCF or not\n",
    "A number that can completely divide the given numbers by leaving remainder 0'''\n",
    "\n",
    "num1 = int(input(\"Enter the num1 : \"))\n",
    "num2 = int(input(\"Enter the num2 : \"))\n",
    "hcf = 0\n",
    "for i in range(1 , min(num1, num2)):\n",
    "    if num1%i == 0 and num2%i == 0:\n",
    "        hcf = i\n",
    "        \n",
    "print(f\"{hcf} is the HCF of {num1} and {num2}\")\n",
    "        "
   ]
  },
  {
   "cell_type": "code",
   "execution_count": 5,
   "id": "305c13b4",
   "metadata": {},
   "outputs": [
    {
     "name": "stdout",
     "output_type": "stream",
     "text": [
      "180 is the LCM of 36 and 60\n"
     ]
    }
   ],
   "source": [
    "'''LCM or not\n",
    "\n",
    "For a input num1 and num2. This method uses two following observations \n",
    "\n",
    "LCM of two numbers will at least be equal or greater than max(num1, num2)\n",
    "Largest possibility of LCM will be num1 * num2'''\n",
    "\n",
    "num1 = int(input(\"Enter the num1 : \"))\n",
    "num2 = int(input(\"Enter the num2 : \"))\n",
    "\n",
    "for i in range(max(num1, num2), (num1*num2)+1):\n",
    "    if i%num1 == 0 == i%num2 == 0:\n",
    "        lcm = i\n",
    "        break\n",
    "print(f\"{lcm} is the LCM of {num1} and {num2}\")"
   ]
  },
  {
   "cell_type": "code",
   "execution_count": 7,
   "id": "160d1e94",
   "metadata": {},
   "outputs": [
    {
     "name": "stdout",
     "output_type": "stream",
     "text": [
      "15\n"
     ]
    }
   ],
   "source": [
    "'''Binary to Decimal \n",
    "'''\n",
    "\n",
    "num = int(input())\n",
    "decimal = 0\n",
    "base = 0\n",
    "while num > 0:\n",
    "    rem = num%10\n",
    "    decimal += rem * (2**base)\n",
    "    num = num//10\n",
    "    base += 1\n",
    "print(decimal)"
   ]
  },
  {
   "cell_type": "code",
   "execution_count": 9,
   "id": "86fea6da",
   "metadata": {},
   "outputs": [
    {
     "name": "stdout",
     "output_type": "stream",
     "text": [
      "219\n"
     ]
    }
   ],
   "source": [
    "'''Octal to Decimal \n",
    "'''\n",
    "\n",
    "num = int(input())\n",
    "octal = 0\n",
    "base = 0\n",
    "while (num > 0):\n",
    "    rem = num%10\n",
    "    octal += rem*(8**base)\n",
    "    num = num//10\n",
    "    base += 1\n",
    "print(octal)\n"
   ]
  },
  {
   "cell_type": "code",
   "execution_count": 10,
   "id": "3f4a967a",
   "metadata": {},
   "outputs": [
    {
     "name": "stdout",
     "output_type": "stream",
     "text": [
      "700707\n"
     ]
    }
   ],
   "source": [
    "'''Hexadecimal to Decimal'''\n",
    "\n",
    "num = input()\n",
    "base = 0\n",
    "hex = 0\n",
    "length = len(num)\n",
    "for i in range(length-1,-1,-1):\n",
    "    if '0' <= num[i] <= '9':\n",
    "        digit = num[i]\n",
    "        hex += int(digit) * (16**base)\n",
    "        base += 1\n",
    "    elif 'A' <= num[i] <= 'F':\n",
    "        digit = num[i]\n",
    "        hex += (ord(digit)-55) * (16**base)\n",
    "        base += 1\n",
    "print(hex)"
   ]
  },
  {
   "cell_type": "code",
   "execution_count": null,
   "id": "a06ac42d",
   "metadata": {},
   "outputs": [],
   "source": []
  }
 ],
 "metadata": {
  "kernelspec": {
   "display_name": "Python 3 (ipykernel)",
   "language": "python",
   "name": "python3"
  },
  "language_info": {
   "codemirror_mode": {
    "name": "ipython",
    "version": 3
   },
   "file_extension": ".py",
   "mimetype": "text/x-python",
   "name": "python",
   "nbconvert_exporter": "python",
   "pygments_lexer": "ipython3",
   "version": "3.7.8"
  }
 },
 "nbformat": 4,
 "nbformat_minor": 5
}
