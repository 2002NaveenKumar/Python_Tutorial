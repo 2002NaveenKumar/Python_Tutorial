{
 "cells": [
  {
   "cell_type": "markdown",
   "id": "6345d3bf",
   "metadata": {},
   "source": [
    "# Strings and its functions"
   ]
  },
  {
   "cell_type": "code",
   "execution_count": 1,
   "id": "7d28fb87",
   "metadata": {},
   "outputs": [
    {
     "name": "stdout",
     "output_type": "stream",
     "text": [
      "Naveen is a Data Scientist\n"
     ]
    }
   ],
   "source": [
    "print(\"Naveen is a Data Scientist\")"
   ]
  },
  {
   "cell_type": "code",
   "execution_count": 3,
   "id": "e5d6ba63",
   "metadata": {},
   "outputs": [
    {
     "name": "stdout",
     "output_type": "stream",
     "text": [
      "Naveen is a Data Scientist\n"
     ]
    }
   ],
   "source": [
    "info = \"Naveen is a Data Scientist\"\n",
    "print(info)"
   ]
  },
  {
   "cell_type": "code",
   "execution_count": 5,
   "id": "368b32d9",
   "metadata": {},
   "outputs": [
    {
     "name": "stdout",
     "output_type": "stream",
     "text": [
      "Naveen's Data Science Company\n"
     ]
    }
   ],
   "source": [
    "print(\"Naveen's Data Science Company\")"
   ]
  },
  {
   "cell_type": "code",
   "execution_count": 6,
   "id": "993b4ded",
   "metadata": {},
   "outputs": [
    {
     "name": "stdout",
     "output_type": "stream",
     "text": [
      "Naveen's Data Science Company\n"
     ]
    }
   ],
   "source": [
    "print('Naveen\\'s Data Science Company')"
   ]
  },
  {
   "cell_type": "code",
   "execution_count": 7,
   "id": "c8e53cca",
   "metadata": {},
   "outputs": [
    {
     "name": "stdout",
     "output_type": "stream",
     "text": [
      "Naveen's Data\n",
      "Science Company\n"
     ]
    }
   ],
   "source": [
    "info = '''Naveen\\'s Data\n",
    "Science Company'''\n",
    "print(info)"
   ]
  },
  {
   "cell_type": "code",
   "execution_count": 10,
   "id": "17c046f3",
   "metadata": {},
   "outputs": [
    {
     "name": "stdout",
     "output_type": "stream",
     "text": [
      "29\n"
     ]
    }
   ],
   "source": [
    "#Length of String\n",
    "\n",
    "info = \"Naveen's Data Science Company\"\n",
    "print(len(info))"
   ]
  },
  {
   "cell_type": "code",
   "execution_count": 14,
   "id": "c437cb22",
   "metadata": {
    "scrolled": true
   },
   "outputs": [
    {
     "name": "stdout",
     "output_type": "stream",
     "text": [
      "N\n",
      "n\n",
      "c\n",
      "y\n",
      "o\n"
     ]
    }
   ],
   "source": [
    "#to access particular character from the string\n",
    "info = \"Naveen's Data Science Company\"\n",
    "print(info[0])\n",
    "print(info[5])\n",
    "print(info[15])\n",
    "print(info[-1])\n",
    "print(info[-6])"
   ]
  },
  {
   "cell_type": "code",
   "execution_count": 24,
   "id": "cbf6bc06",
   "metadata": {},
   "outputs": [
    {
     "name": "stdout",
     "output_type": "stream",
     "text": [
      "Naveen's Data Science Company\n",
      "Naveen's Data S\n",
      "ee\n",
      "Naveen's Data Science Compan\n",
      "\n",
      "ompan\n"
     ]
    }
   ],
   "source": [
    "#To print set of characters\n",
    "info = \"Naveen's Data Science Company\"\n",
    "print(info[:])\n",
    "print(info[:15])\n",
    "print(info[3:5])\n",
    "print(info[:-1])\n",
    "print(info[-1:-15])\n",
    "print(info[-6:-1])"
   ]
  },
  {
   "cell_type": "code",
   "execution_count": 25,
   "id": "3f50c7da",
   "metadata": {},
   "outputs": [
    {
     "name": "stdout",
     "output_type": "stream",
     "text": [
      "naveen's data science company\n"
     ]
    }
   ],
   "source": [
    "#convert string to lower case\n",
    "info = \"Naveen's Data Science Company\"\n",
    "print(info.lower())"
   ]
  },
  {
   "cell_type": "code",
   "execution_count": 26,
   "id": "c807cae1",
   "metadata": {},
   "outputs": [
    {
     "name": "stdout",
     "output_type": "stream",
     "text": [
      "NAVEEN'S DATA SCIENCE COMPANY\n"
     ]
    }
   ],
   "source": [
    "#convert string to upper case\n",
    "info = \"Naveen's Data Science Company\"\n",
    "print(info.upper())"
   ]
  },
  {
   "cell_type": "code",
   "execution_count": 29,
   "id": "c2a65525",
   "metadata": {},
   "outputs": [
    {
     "name": "stdout",
     "output_type": "stream",
     "text": [
      "9\n",
      "9\n",
      "-1\n"
     ]
    }
   ],
   "source": [
    "#to find the position of particular string value\n",
    "info = \"Naveen's Data Science Company\"\n",
    "print(info.find(\"D\"))\n",
    "print(info.find(\"Data\"))\n",
    "print(info.find(\"X\"))"
   ]
  },
  {
   "cell_type": "code",
   "execution_count": 30,
   "id": "2e6333cf",
   "metadata": {},
   "outputs": [
    {
     "name": "stdout",
     "output_type": "stream",
     "text": [
      "Naveen's Machine Learning Company\n"
     ]
    }
   ],
   "source": [
    "#To replace a new word in the String\n",
    "info = \"Naveen's Data Science Company\"\n",
    "print(info.replace(\"Data Science\", \"Machine Learning\"))"
   ]
  },
  {
   "cell_type": "code",
   "execution_count": 32,
   "id": "7fc2cabf",
   "metadata": {},
   "outputs": [
    {
     "name": "stdout",
     "output_type": "stream",
     "text": [
      "Naveen'sData Science Company\n",
      "Naveen's Data Science Company\n"
     ]
    }
   ],
   "source": [
    "#To concatanate two strings\n",
    "info = \"Naveen's\"\n",
    "info_in = \"Data Science Company\"\n",
    "print(info+info_in)\n",
    "print(info+\" \"+info_in)"
   ]
  },
  {
   "cell_type": "code",
   "execution_count": 33,
   "id": "3e85ad58",
   "metadata": {},
   "outputs": [
    {
     "name": "stdout",
     "output_type": "stream",
     "text": [
      "Naveen this is Data Science domain\n"
     ]
    }
   ],
   "source": [
    "#To format the string\n",
    "info = \"Naveen\"\n",
    "info_in = \"Data Science\"\n",
    "print(\"{} this is {} domain\".format(info, info_in))"
   ]
  },
  {
   "cell_type": "code",
   "execution_count": 34,
   "id": "39d7d5ad",
   "metadata": {},
   "outputs": [
    {
     "name": "stdout",
     "output_type": "stream",
     "text": [
      "Naveen this is Data Science domain\n"
     ]
    }
   ],
   "source": [
    "#To format the string using fstring\n",
    "info = \"Naveen\"\n",
    "info_in = \"Data Science\"\n",
    "print(f\"{info} this is {info_in} domain\")"
   ]
  },
  {
   "cell_type": "code",
   "execution_count": 35,
   "id": "90c0d98f",
   "metadata": {},
   "outputs": [
    {
     "name": "stdout",
     "output_type": "stream",
     "text": [
      "['__add__', '__class__', '__contains__', '__delattr__', '__dir__', '__doc__', '__eq__', '__format__', '__ge__', '__getattribute__', '__getitem__', '__getnewargs__', '__gt__', '__hash__', '__init__', '__init_subclass__', '__iter__', '__le__', '__len__', '__lt__', '__mod__', '__mul__', '__ne__', '__new__', '__reduce__', '__reduce_ex__', '__repr__', '__rmod__', '__rmul__', '__setattr__', '__sizeof__', '__str__', '__subclasshook__', 'capitalize', 'casefold', 'center', 'count', 'encode', 'endswith', 'expandtabs', 'find', 'format', 'format_map', 'index', 'isalnum', 'isalpha', 'isascii', 'isdecimal', 'isdigit', 'isidentifier', 'islower', 'isnumeric', 'isprintable', 'isspace', 'istitle', 'isupper', 'join', 'ljust', 'lower', 'lstrip', 'maketrans', 'partition', 'removeprefix', 'removesuffix', 'replace', 'rfind', 'rindex', 'rjust', 'rpartition', 'rsplit', 'rstrip', 'split', 'splitlines', 'startswith', 'strip', 'swapcase', 'title', 'translate', 'upper', 'zfill']\n"
     ]
    }
   ],
   "source": [
    "#To see methods and attributes associated with String\n",
    "info = \"Naveen's Data Science Company\"\n",
    "print(dir(info))"
   ]
  },
  {
   "cell_type": "code",
   "execution_count": 39,
   "id": "439eba41",
   "metadata": {
    "scrolled": false
   },
   "outputs": [
    {
     "name": "stdout",
     "output_type": "stream",
     "text": [
      "Help on class str in module builtins:\n",
      "\n",
      "class str(object)\n",
      " |  str(object='') -> str\n",
      " |  str(bytes_or_buffer[, encoding[, errors]]) -> str\n",
      " |  \n",
      " |  Create a new string object from the given object. If encoding or\n",
      " |  errors is specified, then the object must expose a data buffer\n",
      " |  that will be decoded using the given encoding and error handler.\n",
      " |  Otherwise, returns the result of object.__str__() (if defined)\n",
      " |  or repr(object).\n",
      " |  encoding defaults to sys.getdefaultencoding().\n",
      " |  errors defaults to 'strict'.\n",
      " |  \n",
      " |  Methods defined here:\n",
      " |  \n",
      " |  __add__(self, value, /)\n",
      " |      Return self+value.\n",
      " |  \n",
      " |  __contains__(self, key, /)\n",
      " |      Return key in self.\n",
      " |  \n",
      " |  __eq__(self, value, /)\n",
      " |      Return self==value.\n",
      " |  \n",
      " |  __format__(self, format_spec, /)\n",
      " |      Return a formatted version of the string as described by format_spec.\n",
      " |  \n",
      " |  __ge__(self, value, /)\n",
      " |      Return self>=value.\n",
      " |  \n",
      " |  __getattribute__(self, name, /)\n",
      " |      Return getattr(self, name).\n",
      " |  \n",
      " |  __getitem__(self, key, /)\n",
      " |      Return self[key].\n",
      " |  \n",
      " |  __getnewargs__(...)\n",
      " |  \n",
      " |  __gt__(self, value, /)\n",
      " |      Return self>value.\n",
      " |  \n",
      " |  __hash__(self, /)\n",
      " |      Return hash(self).\n",
      " |  \n",
      " |  __iter__(self, /)\n",
      " |      Implement iter(self).\n",
      " |  \n",
      " |  __le__(self, value, /)\n",
      " |      Return self<=value.\n",
      " |  \n",
      " |  __len__(self, /)\n",
      " |      Return len(self).\n",
      " |  \n",
      " |  __lt__(self, value, /)\n",
      " |      Return self<value.\n",
      " |  \n",
      " |  __mod__(self, value, /)\n",
      " |      Return self%value.\n",
      " |  \n",
      " |  __mul__(self, value, /)\n",
      " |      Return self*value.\n",
      " |  \n",
      " |  __ne__(self, value, /)\n",
      " |      Return self!=value.\n",
      " |  \n",
      " |  __repr__(self, /)\n",
      " |      Return repr(self).\n",
      " |  \n",
      " |  __rmod__(self, value, /)\n",
      " |      Return value%self.\n",
      " |  \n",
      " |  __rmul__(self, value, /)\n",
      " |      Return value*self.\n",
      " |  \n",
      " |  __sizeof__(self, /)\n",
      " |      Return the size of the string in memory, in bytes.\n",
      " |  \n",
      " |  __str__(self, /)\n",
      " |      Return str(self).\n",
      " |  \n",
      " |  capitalize(self, /)\n",
      " |      Return a capitalized version of the string.\n",
      " |      \n",
      " |      More specifically, make the first character have upper case and the rest lower\n",
      " |      case.\n",
      " |  \n",
      " |  casefold(self, /)\n",
      " |      Return a version of the string suitable for caseless comparisons.\n",
      " |  \n",
      " |  center(self, width, fillchar=' ', /)\n",
      " |      Return a centered string of length width.\n",
      " |      \n",
      " |      Padding is done using the specified fill character (default is a space).\n",
      " |  \n",
      " |  count(...)\n",
      " |      S.count(sub[, start[, end]]) -> int\n",
      " |      \n",
      " |      Return the number of non-overlapping occurrences of substring sub in\n",
      " |      string S[start:end].  Optional arguments start and end are\n",
      " |      interpreted as in slice notation.\n",
      " |  \n",
      " |  encode(self, /, encoding='utf-8', errors='strict')\n",
      " |      Encode the string using the codec registered for encoding.\n",
      " |      \n",
      " |      encoding\n",
      " |        The encoding in which to encode the string.\n",
      " |      errors\n",
      " |        The error handling scheme to use for encoding errors.\n",
      " |        The default is 'strict' meaning that encoding errors raise a\n",
      " |        UnicodeEncodeError.  Other possible values are 'ignore', 'replace' and\n",
      " |        'xmlcharrefreplace' as well as any other name registered with\n",
      " |        codecs.register_error that can handle UnicodeEncodeErrors.\n",
      " |  \n",
      " |  endswith(...)\n",
      " |      S.endswith(suffix[, start[, end]]) -> bool\n",
      " |      \n",
      " |      Return True if S ends with the specified suffix, False otherwise.\n",
      " |      With optional start, test S beginning at that position.\n",
      " |      With optional end, stop comparing S at that position.\n",
      " |      suffix can also be a tuple of strings to try.\n",
      " |  \n",
      " |  expandtabs(self, /, tabsize=8)\n",
      " |      Return a copy where all tab characters are expanded using spaces.\n",
      " |      \n",
      " |      If tabsize is not given, a tab size of 8 characters is assumed.\n",
      " |  \n",
      " |  find(...)\n",
      " |      S.find(sub[, start[, end]]) -> int\n",
      " |      \n",
      " |      Return the lowest index in S where substring sub is found,\n",
      " |      such that sub is contained within S[start:end].  Optional\n",
      " |      arguments start and end are interpreted as in slice notation.\n",
      " |      \n",
      " |      Return -1 on failure.\n",
      " |  \n",
      " |  format(...)\n",
      " |      S.format(*args, **kwargs) -> str\n",
      " |      \n",
      " |      Return a formatted version of S, using substitutions from args and kwargs.\n",
      " |      The substitutions are identified by braces ('{' and '}').\n",
      " |  \n",
      " |  format_map(...)\n",
      " |      S.format_map(mapping) -> str\n",
      " |      \n",
      " |      Return a formatted version of S, using substitutions from mapping.\n",
      " |      The substitutions are identified by braces ('{' and '}').\n",
      " |  \n",
      " |  index(...)\n",
      " |      S.index(sub[, start[, end]]) -> int\n",
      " |      \n",
      " |      Return the lowest index in S where substring sub is found,\n",
      " |      such that sub is contained within S[start:end].  Optional\n",
      " |      arguments start and end are interpreted as in slice notation.\n",
      " |      \n",
      " |      Raises ValueError when the substring is not found.\n",
      " |  \n",
      " |  isalnum(self, /)\n",
      " |      Return True if the string is an alpha-numeric string, False otherwise.\n",
      " |      \n",
      " |      A string is alpha-numeric if all characters in the string are alpha-numeric and\n",
      " |      there is at least one character in the string.\n",
      " |  \n",
      " |  isalpha(self, /)\n",
      " |      Return True if the string is an alphabetic string, False otherwise.\n",
      " |      \n",
      " |      A string is alphabetic if all characters in the string are alphabetic and there\n",
      " |      is at least one character in the string.\n",
      " |  \n",
      " |  isascii(self, /)\n",
      " |      Return True if all characters in the string are ASCII, False otherwise.\n",
      " |      \n",
      " |      ASCII characters have code points in the range U+0000-U+007F.\n",
      " |      Empty string is ASCII too.\n",
      " |  \n",
      " |  isdecimal(self, /)\n",
      " |      Return True if the string is a decimal string, False otherwise.\n",
      " |      \n",
      " |      A string is a decimal string if all characters in the string are decimal and\n",
      " |      there is at least one character in the string.\n",
      " |  \n",
      " |  isdigit(self, /)\n",
      " |      Return True if the string is a digit string, False otherwise.\n",
      " |      \n",
      " |      A string is a digit string if all characters in the string are digits and there\n",
      " |      is at least one character in the string.\n",
      " |  \n",
      " |  isidentifier(self, /)\n",
      " |      Return True if the string is a valid Python identifier, False otherwise.\n",
      " |      \n",
      " |      Call keyword.iskeyword(s) to test whether string s is a reserved identifier,\n",
      " |      such as \"def\" or \"class\".\n",
      " |  \n",
      " |  islower(self, /)\n",
      " |      Return True if the string is a lowercase string, False otherwise.\n",
      " |      \n",
      " |      A string is lowercase if all cased characters in the string are lowercase and\n",
      " |      there is at least one cased character in the string.\n",
      " |  \n",
      " |  isnumeric(self, /)\n",
      " |      Return True if the string is a numeric string, False otherwise.\n",
      " |      \n",
      " |      A string is numeric if all characters in the string are numeric and there is at\n",
      " |      least one character in the string.\n",
      " |  \n",
      " |  isprintable(self, /)\n",
      " |      Return True if the string is printable, False otherwise.\n",
      " |      \n",
      " |      A string is printable if all of its characters are considered printable in\n",
      " |      repr() or if it is empty.\n",
      " |  \n",
      " |  isspace(self, /)\n",
      " |      Return True if the string is a whitespace string, False otherwise.\n",
      " |      \n",
      " |      A string is whitespace if all characters in the string are whitespace and there\n",
      " |      is at least one character in the string.\n",
      " |  \n",
      " |  istitle(self, /)\n",
      " |      Return True if the string is a title-cased string, False otherwise.\n",
      " |      \n",
      " |      In a title-cased string, upper- and title-case characters may only\n",
      " |      follow uncased characters and lowercase characters only cased ones.\n",
      " |  \n",
      " |  isupper(self, /)\n",
      " |      Return True if the string is an uppercase string, False otherwise.\n",
      " |      \n",
      " |      A string is uppercase if all cased characters in the string are uppercase and\n",
      " |      there is at least one cased character in the string.\n",
      " |  \n",
      " |  join(self, iterable, /)\n",
      " |      Concatenate any number of strings.\n",
      " |      \n",
      " |      The string whose method is called is inserted in between each given string.\n",
      " |      The result is returned as a new string.\n",
      " |      \n",
      " |      Example: '.'.join(['ab', 'pq', 'rs']) -> 'ab.pq.rs'\n",
      " |  \n",
      " |  ljust(self, width, fillchar=' ', /)\n",
      " |      Return a left-justified string of length width.\n",
      " |      \n",
      " |      Padding is done using the specified fill character (default is a space).\n",
      " |  \n",
      " |  lower(self, /)\n",
      " |      Return a copy of the string converted to lowercase.\n",
      " |  \n",
      " |  lstrip(self, chars=None, /)\n",
      " |      Return a copy of the string with leading whitespace removed.\n",
      " |      \n",
      " |      If chars is given and not None, remove characters in chars instead.\n",
      " |  \n",
      " |  partition(self, sep, /)\n",
      " |      Partition the string into three parts using the given separator.\n",
      " |      \n",
      " |      This will search for the separator in the string.  If the separator is found,\n",
      " |      returns a 3-tuple containing the part before the separator, the separator\n",
      " |      itself, and the part after it.\n",
      " |      \n",
      " |      If the separator is not found, returns a 3-tuple containing the original string\n",
      " |      and two empty strings.\n",
      " |  \n",
      " |  removeprefix(self, prefix, /)\n",
      " |      Return a str with the given prefix string removed if present.\n",
      " |      \n",
      " |      If the string starts with the prefix string, return string[len(prefix):].\n",
      " |      Otherwise, return a copy of the original string.\n",
      " |  \n",
      " |  removesuffix(self, suffix, /)\n",
      " |      Return a str with the given suffix string removed if present.\n",
      " |      \n",
      " |      If the string ends with the suffix string and that suffix is not empty,\n",
      " |      return string[:-len(suffix)]. Otherwise, return a copy of the original\n",
      " |      string.\n",
      " |  \n",
      " |  replace(self, old, new, count=-1, /)\n",
      " |      Return a copy with all occurrences of substring old replaced by new.\n",
      " |      \n",
      " |        count\n",
      " |          Maximum number of occurrences to replace.\n",
      " |          -1 (the default value) means replace all occurrences.\n",
      " |      \n",
      " |      If the optional argument count is given, only the first count occurrences are\n",
      " |      replaced.\n",
      " |  \n",
      " |  rfind(...)\n",
      " |      S.rfind(sub[, start[, end]]) -> int\n",
      " |      \n",
      " |      Return the highest index in S where substring sub is found,\n",
      " |      such that sub is contained within S[start:end].  Optional\n",
      " |      arguments start and end are interpreted as in slice notation.\n",
      " |      \n",
      " |      Return -1 on failure.\n",
      " |  \n",
      " |  rindex(...)\n",
      " |      S.rindex(sub[, start[, end]]) -> int\n",
      " |      \n",
      " |      Return the highest index in S where substring sub is found,\n",
      " |      such that sub is contained within S[start:end].  Optional\n",
      " |      arguments start and end are interpreted as in slice notation.\n",
      " |      \n",
      " |      Raises ValueError when the substring is not found.\n",
      " |  \n",
      " |  rjust(self, width, fillchar=' ', /)\n",
      " |      Return a right-justified string of length width.\n",
      " |      \n",
      " |      Padding is done using the specified fill character (default is a space).\n",
      " |  \n",
      " |  rpartition(self, sep, /)\n",
      " |      Partition the string into three parts using the given separator.\n",
      " |      \n",
      " |      This will search for the separator in the string, starting at the end. If\n",
      " |      the separator is found, returns a 3-tuple containing the part before the\n",
      " |      separator, the separator itself, and the part after it.\n",
      " |      \n",
      " |      If the separator is not found, returns a 3-tuple containing two empty strings\n",
      " |      and the original string.\n",
      " |  \n",
      " |  rsplit(self, /, sep=None, maxsplit=-1)\n",
      " |      Return a list of the substrings in the string, using sep as the separator string.\n",
      " |      \n",
      " |        sep\n",
      " |          The separator used to split the string.\n",
      " |      \n",
      " |          When set to None (the default value), will split on any whitespace\n",
      " |          character (including \\\\n \\\\r \\\\t \\\\f and spaces) and will discard\n",
      " |          empty strings from the result.\n",
      " |        maxsplit\n",
      " |          Maximum number of splits (starting from the left).\n",
      " |          -1 (the default value) means no limit.\n",
      " |      \n",
      " |      Splitting starts at the end of the string and works to the front.\n",
      " |  \n",
      " |  rstrip(self, chars=None, /)\n",
      " |      Return a copy of the string with trailing whitespace removed.\n",
      " |      \n",
      " |      If chars is given and not None, remove characters in chars instead.\n",
      " |  \n",
      " |  split(self, /, sep=None, maxsplit=-1)\n",
      " |      Return a list of the substrings in the string, using sep as the separator string.\n",
      " |      \n",
      " |        sep\n",
      " |          The separator used to split the string.\n",
      " |      \n",
      " |          When set to None (the default value), will split on any whitespace\n",
      " |          character (including \\\\n \\\\r \\\\t \\\\f and spaces) and will discard\n",
      " |          empty strings from the result.\n",
      " |        maxsplit\n",
      " |          Maximum number of splits (starting from the left).\n",
      " |          -1 (the default value) means no limit.\n",
      " |      \n",
      " |      Note, str.split() is mainly useful for data that has been intentionally\n",
      " |      delimited.  With natural text that includes punctuation, consider using\n",
      " |      the regular expression module.\n",
      " |  \n",
      " |  splitlines(self, /, keepends=False)\n",
      " |      Return a list of the lines in the string, breaking at line boundaries.\n",
      " |      \n",
      " |      Line breaks are not included in the resulting list unless keepends is given and\n",
      " |      true.\n",
      " |  \n",
      " |  startswith(...)\n",
      " |      S.startswith(prefix[, start[, end]]) -> bool\n",
      " |      \n",
      " |      Return True if S starts with the specified prefix, False otherwise.\n",
      " |      With optional start, test S beginning at that position.\n",
      " |      With optional end, stop comparing S at that position.\n",
      " |      prefix can also be a tuple of strings to try.\n",
      " |  \n",
      " |  strip(self, chars=None, /)\n",
      " |      Return a copy of the string with leading and trailing whitespace removed.\n",
      " |      \n",
      " |      If chars is given and not None, remove characters in chars instead.\n",
      " |  \n",
      " |  swapcase(self, /)\n",
      " |      Convert uppercase characters to lowercase and lowercase characters to uppercase.\n",
      " |  \n",
      " |  title(self, /)\n",
      " |      Return a version of the string where each word is titlecased.\n",
      " |      \n",
      " |      More specifically, words start with uppercased characters and all remaining\n",
      " |      cased characters have lower case.\n",
      " |  \n",
      " |  translate(self, table, /)\n",
      " |      Replace each character in the string using the given translation table.\n",
      " |      \n",
      " |        table\n",
      " |          Translation table, which must be a mapping of Unicode ordinals to\n",
      " |          Unicode ordinals, strings, or None.\n",
      " |      \n",
      " |      The table must implement lookup/indexing via __getitem__, for instance a\n",
      " |      dictionary or list.  If this operation raises LookupError, the character is\n",
      " |      left untouched.  Characters mapped to None are deleted.\n",
      " |  \n",
      " |  upper(self, /)\n",
      " |      Return a copy of the string converted to uppercase.\n",
      " |  \n",
      " |  zfill(self, width, /)\n",
      " |      Pad a numeric string with zeros on the left, to fill a field of the given width.\n",
      " |      \n",
      " |      The string is never truncated.\n",
      " |  \n",
      " |  ----------------------------------------------------------------------\n",
      " |  Static methods defined here:\n",
      " |  \n",
      " |  __new__(*args, **kwargs) from builtins.type\n",
      " |      Create and return a new object.  See help(type) for accurate signature.\n",
      " |  \n",
      " |  maketrans(...)\n",
      " |      Return a translation table usable for str.translate().\n",
      " |      \n",
      " |      If there is only one argument, it must be a dictionary mapping Unicode\n",
      " |      ordinals (integers) or characters to Unicode ordinals, strings or None.\n",
      " |      Character keys will be then converted to ordinals.\n",
      " |      If there are two arguments, they must be strings of equal length, and\n",
      " |      in the resulting dictionary, each character in x will be mapped to the\n",
      " |      character at the same position in y. If there is a third argument, it\n",
      " |      must be a string, whose characters will be mapped to None in the result.\n",
      "\n",
      "None\n"
     ]
    }
   ],
   "source": [
    "#To get information about the attribute\n",
    "info = \"Naveen's Data Science Company\"\n",
    "print(help(str))"
   ]
  },
  {
   "cell_type": "markdown",
   "id": "db523658",
   "metadata": {},
   "source": [
    "# Int and Float (Numeric data) "
   ]
  },
  {
   "cell_type": "markdown",
   "id": "f55c0c11",
   "metadata": {},
   "source": [
    "Arithmatic Operators:\n",
    "\n",
    "    + -------> Addition\n",
    "    - -------> Subtraction\n",
    "    * -------> Multiplication\n",
    "    ** -------> Exponent\n",
    "    / -------> Division\n",
    "    // -------> Floor Division\n",
    "    % -------> Modulus\n",
    "    \n",
    "Arithmatic Assignment Operators:\n",
    "\n",
    "    += -------> Addition\n",
    "    -= -------> Subtraction\n",
    "    *= -------> Multiplication\n",
    "    **= -------> Exponent\n",
    "    /= -------> Division\n",
    "    //= -------> Floor Division\n",
    "    %= -------> Modulus\n",
    "\n",
    "Relational Operators:\n",
    "\n",
    "    > -------> Greater than\n",
    "    < -------> Less than\n",
    "    >= -------> Greater than equal to\n",
    "    <= -------> Less than equal to\n",
    "    == -------> Equal to\n",
    "    != -------> Not equal to"
   ]
  },
  {
   "cell_type": "code",
   "execution_count": 40,
   "id": "8e1a2691",
   "metadata": {},
   "outputs": [
    {
     "name": "stdout",
     "output_type": "stream",
     "text": [
      "40\n",
      "=========================================\n",
      "20\n",
      "=========================================\n",
      "300\n",
      "=========================================\n",
      "590490000000000\n",
      "=========================================\n",
      "3.0\n",
      "=========================================\n",
      "3\n",
      "=========================================\n",
      "0\n",
      "=========================================\n"
     ]
    }
   ],
   "source": [
    "num1 = 30\n",
    "num2 = 10\n",
    "print(num1+num2)\n",
    "print(\"=========================================\")\n",
    "num1 = 30\n",
    "num2 = 10\n",
    "print(num1-num2)\n",
    "print(\"=========================================\")\n",
    "num1 = 30\n",
    "num2 = 10\n",
    "print(num1*num2)\n",
    "print(\"=========================================\")\n",
    "num1 = 30\n",
    "num2 = 10\n",
    "print(num1**num2)\n",
    "print(\"=========================================\")\n",
    "num1 = 30\n",
    "num2 = 10\n",
    "print(num1/num2)\n",
    "print(\"=========================================\")\n",
    "num1 = 30\n",
    "num2 = 10\n",
    "print(num1//num2)\n",
    "print(\"=========================================\")\n",
    "num1 = 30\n",
    "num2 = 10\n",
    "print(num1%num2)\n",
    "print(\"=========================================\")"
   ]
  },
  {
   "cell_type": "code",
   "execution_count": 45,
   "id": "a209206a",
   "metadata": {},
   "outputs": [
    {
     "name": "stdout",
     "output_type": "stream",
     "text": [
      "11\n",
      "----------------------------\n",
      "11\n",
      "----------------------------\n",
      "9\n",
      "----------------------------\n",
      "9\n",
      "----------------------------\n"
     ]
    }
   ],
   "source": [
    "#To increment and decrement values:\n",
    "num = 10\n",
    "num = num+1\n",
    "print(num)\n",
    "print(\"----------------------------\")\n",
    "num = 10\n",
    "num+=1\n",
    "print(num)\n",
    "print(\"----------------------------\")\n",
    "num = 10\n",
    "num = num-1\n",
    "print(num)\n",
    "print(\"----------------------------\")\n",
    "num = 10\n",
    "num-=1\n",
    "print(num)\n",
    "print(\"----------------------------\")"
   ]
  },
  {
   "cell_type": "code",
   "execution_count": 49,
   "id": "53639c76",
   "metadata": {},
   "outputs": [
    {
     "name": "stdout",
     "output_type": "stream",
     "text": [
      "20\n",
      "23\n",
      "23.234\n",
      "0b101\n"
     ]
    }
   ],
   "source": [
    "#Built in functions in python\n",
    "\n",
    "print(abs(-20))\n",
    "print(round(23.23434543564))\n",
    "print(round(23.234353453454323422, 3))\n",
    "print(bin(5))"
   ]
  },
  {
   "cell_type": "code",
   "execution_count": 50,
   "id": "977f9413",
   "metadata": {},
   "outputs": [
    {
     "name": "stdout",
     "output_type": "stream",
     "text": [
      "10050\n"
     ]
    }
   ],
   "source": [
    "#To concate the strings\n",
    "num1 = '100'\n",
    "num2 = '50'\n",
    "print(num1+num2)"
   ]
  },
  {
   "cell_type": "code",
   "execution_count": 53,
   "id": "e8a90919",
   "metadata": {},
   "outputs": [
    {
     "name": "stdout",
     "output_type": "stream",
     "text": [
      "150\n",
      "123.68435434534534\n",
      "150.45\n"
     ]
    }
   ],
   "source": [
    "#typecasting the string to integer\n",
    "num1 = '100'\n",
    "num2 = '50'\n",
    "num3 = '100.45'\n",
    "num4 = '23.23435434534534'\n",
    "print(int(num1) + int(num2))\n",
    "print(float(num3) + float(num4))\n",
    "print(float(num3) + int(num2))"
   ]
  },
  {
   "cell_type": "markdown",
   "id": "e4d361ae",
   "metadata": {},
   "source": [
    "# List in Python\n",
    "    -> collection data type\n",
    "    -> ordered collection\n",
    "    -> mutable\n",
    "    -> A list can contain strings, integer, float, list within list, and tuple within list"
   ]
  },
  {
   "cell_type": "code",
   "execution_count": 55,
   "id": "3d048a46",
   "metadata": {},
   "outputs": [
    {
     "name": "stdout",
     "output_type": "stream",
     "text": [
      "['Hr', 'Finance', 'IT', 'Admin']\n"
     ]
    }
   ],
   "source": [
    "dept = [\"Hr\", \"Finance\", \"IT\", \"Admin\"]\n",
    "print(dept)"
   ]
  },
  {
   "cell_type": "code",
   "execution_count": 62,
   "id": "5581334e",
   "metadata": {},
   "outputs": [
    {
     "name": "stdout",
     "output_type": "stream",
     "text": [
      "Hr\n",
      "Admin\n",
      "Finance\n",
      "['Finance', 'IT', 'Admin']\n"
     ]
    }
   ],
   "source": [
    "#To access particular value from the list\n",
    "dept = [\"Hr\", \"Finance\", \"IT\", \"Admin\"]\n",
    "print(dept[0])\n",
    "print(dept[-1])\n",
    "print(dept[-3])\n",
    "print(dept[1:4])"
   ]
  },
  {
   "cell_type": "markdown",
   "id": "d46c834d",
   "metadata": {},
   "source": [
    "# Built in methods in python"
   ]
  },
  {
   "cell_type": "code",
   "execution_count": 1,
   "id": "82cb44b3",
   "metadata": {},
   "outputs": [
    {
     "name": "stdout",
     "output_type": "stream",
     "text": [
      "['Hr', 'Finance', 'IT', 'Admin', 'CEO']\n",
      "['Hr', 'Finance', 'IT', 'Admin', 'CEO']\n",
      "[]\n"
     ]
    }
   ],
   "source": [
    "dept = [\"Hr\", \"Finance\", \"IT\", \"Admin\"]\n",
    "dept.append(\"CEO\")\n",
    "print(dept)\n",
    "dept_cpy = dept.copy()\n",
    "print(dept_cpy)\n",
    "dept.clear()\n",
    "print(dept)"
   ]
  },
  {
   "cell_type": "code",
   "execution_count": 2,
   "id": "735b9ff5",
   "metadata": {},
   "outputs": [
    {
     "name": "stdout",
     "output_type": "stream",
     "text": [
      "['Hr', 'Finance', 'IT', 'Admin', ['CEO', 'Training']]\n",
      "['Hr', 'Finance', 'IT', 'Admin', ['CEO', 'Training'], 'CEO', 'Training']\n"
     ]
    }
   ],
   "source": [
    "#To store the values on new list to the old list as same list\n",
    "dept = [\"Hr\", \"Finance\", \"IT\", \"Admin\"]\n",
    "dept_1 = [\"CEO\", \"Training\"]\n",
    "dept.append(dept_1)\n",
    "print(dept)\n",
    "dept.extend(dept_1)\n",
    "print(dept)"
   ]
  },
  {
   "cell_type": "code",
   "execution_count": 3,
   "id": "395016d7",
   "metadata": {},
   "outputs": [
    {
     "name": "stdout",
     "output_type": "stream",
     "text": [
      "0\n",
      "2\n"
     ]
    }
   ],
   "source": [
    "#To find the position of value in the list\n",
    "dept = [\"Hr\", \"Finance\", \"IT\", \"Admin\"]\n",
    "print(dept.index('Hr'))\n",
    "print(dept.index('IT'))"
   ]
  },
  {
   "cell_type": "code",
   "execution_count": 4,
   "id": "5224071b",
   "metadata": {},
   "outputs": [
    {
     "name": "stdout",
     "output_type": "stream",
     "text": [
      "Admin\n",
      "Finance\n",
      "['Hr', 'IT']\n"
     ]
    }
   ],
   "source": [
    "#To take out particular value from the List\n",
    "dept = [\"Hr\", \"Finance\", \"IT\", \"Admin\"]\n",
    "print(dept.pop(3))\n",
    "print(dept.pop(1))\n",
    "print(dept)"
   ]
  },
  {
   "cell_type": "code",
   "execution_count": 5,
   "id": "6374b740",
   "metadata": {},
   "outputs": [
    {
     "name": "stdout",
     "output_type": "stream",
     "text": [
      "None\n",
      "['Hr', 'Finance', 'Admin']\n"
     ]
    }
   ],
   "source": [
    "#To remove a value from the List\n",
    "dept = [\"Hr\", \"Finance\", \"IT\", \"Admin\"]\n",
    "print(dept.remove(\"IT\"))\n",
    "print(dept)"
   ]
  },
  {
   "cell_type": "code",
   "execution_count": 6,
   "id": "aca7417d",
   "metadata": {},
   "outputs": [
    {
     "name": "stdout",
     "output_type": "stream",
     "text": [
      "['Hr', 'IT', 'Finance', 'Admin']\n"
     ]
    }
   ],
   "source": [
    "#To add a values to anywhere in the List\n",
    "dept = ['Hr', 'Finance', 'Admin']\n",
    "dept.insert(1, \"IT\")\n",
    "print(dept)"
   ]
  },
  {
   "cell_type": "code",
   "execution_count": 7,
   "id": "08d476a4",
   "metadata": {},
   "outputs": [
    {
     "name": "stdout",
     "output_type": "stream",
     "text": [
      "['Admin', 'Finance', 'Hr', 'IT']\n"
     ]
    }
   ],
   "source": [
    " #To sort the list in ascending order\n",
    "dept = ['Hr', 'IT', 'Finance', 'Admin']\n",
    "dept.sort()\n",
    "print(dept)"
   ]
  },
  {
   "cell_type": "code",
   "execution_count": 8,
   "id": "b07394f6",
   "metadata": {},
   "outputs": [
    {
     "name": "stdout",
     "output_type": "stream",
     "text": [
      "['IT', 'Hr', 'Finance', 'Admin']\n"
     ]
    }
   ],
   "source": [
    "#To sort the list in descending order\n",
    "dept = ['Hr', 'IT', 'Finance', 'Admin']\n",
    "dept.sort(reverse = True)\n",
    "print(dept)"
   ]
  },
  {
   "cell_type": "code",
   "execution_count": 9,
   "id": "56688b18",
   "metadata": {},
   "outputs": [
    {
     "name": "stdout",
     "output_type": "stream",
     "text": [
      "['Admin', 'Finance', 'IT', 'Hr']\n"
     ]
    }
   ],
   "source": [
    "#To reverse the list\n",
    "dept = ['Hr', 'IT', 'Finance', 'Admin']\n",
    "dept.reverse()\n",
    "print(dept)"
   ]
  },
  {
   "cell_type": "code",
   "execution_count": 10,
   "id": "394ddaf7",
   "metadata": {},
   "outputs": [
    {
     "name": "stdout",
     "output_type": "stream",
     "text": [
      "5\n",
      "1\n",
      "2\n",
      "2\n"
     ]
    }
   ],
   "source": [
    "#To count the repitition of elements in the list\n",
    "num_lst = [1,1,1,1,1,3,4,4,5,6,7,7,5,567,6,7,89,9]\n",
    "print(num_lst.count(1))\n",
    "print(num_lst.count(3))\n",
    "print(num_lst.count(4))\n",
    "print(num_lst.count(5))"
   ]
  },
  {
   "cell_type": "code",
   "execution_count": 11,
   "id": "7541cf68",
   "metadata": {},
   "outputs": [
    {
     "name": "stdout",
     "output_type": "stream",
     "text": [
      "1\n",
      "567\n",
      "724\n"
     ]
    }
   ],
   "source": [
    "#To find the min, max, sum of the list\n",
    "num_lst = [1,1,1,1,1,3,4,4,5,6,7,7,5,567,6,7,89,9]\n",
    "print(min(num_lst))\n",
    "print(max(num_lst))\n",
    "print(sum(num_lst))"
   ]
  },
  {
   "cell_type": "markdown",
   "id": "4e97ac5a",
   "metadata": {},
   "source": [
    "# Tuple in python\n",
    "    -> Tuple consist of string, integer, float\n",
    "    -> It is one of the collection datatype in python\n",
    "    -> list and tuple are used to store the data alone but list in mutable and tuple is immutable\n",
    "    -> Tuple are ordered sequence"
   ]
  },
  {
   "cell_type": "code",
   "execution_count": 12,
   "id": "8dab8417",
   "metadata": {},
   "outputs": [
    {
     "name": "stdout",
     "output_type": "stream",
     "text": [
      "(1, 23, 34, 45, 56, 67, 78, 89)\n"
     ]
    }
   ],
   "source": [
    "tup = (1,23,34,45,56,67,78,89)\n",
    "print(tup)"
   ]
  },
  {
   "cell_type": "code",
   "execution_count": 13,
   "id": "1cc7a837",
   "metadata": {},
   "outputs": [
    {
     "name": "stdout",
     "output_type": "stream",
     "text": [
      "56\n",
      "89\n",
      "78\n",
      "34\n"
     ]
    }
   ],
   "source": [
    "#To access particular value in tuple\n",
    "tup = (1,23,34,45,56,67,78,89)\n",
    "print(tup[4])\n",
    "print(tup[7])\n",
    "print(tup[6])\n",
    "print(tup[2])"
   ]
  },
  {
   "cell_type": "code",
   "execution_count": 14,
   "id": "578caa49",
   "metadata": {},
   "outputs": [
    {
     "name": "stdout",
     "output_type": "stream",
     "text": [
      "(1, 23, 34, 45, 56, 67, 78, 89)\n",
      "(1, 23, 34)\n",
      "(1, 23, 34, 45, 56, 67, 78)\n",
      "(34, 45, 56, 67, 78)\n"
     ]
    }
   ],
   "source": [
    "#To print a range of values\n",
    "tup = (1,23,34,45,56,67,78,89)\n",
    "print(tup[:])\n",
    "print(tup[0:3])\n",
    "print(tup[:-1])\n",
    "print(tup[-6:-1])"
   ]
  },
  {
   "cell_type": "markdown",
   "id": "e8dbdfaa",
   "metadata": {},
   "source": [
    "# Built in methods in python"
   ]
  },
  {
   "cell_type": "code",
   "execution_count": 15,
   "id": "9481f74b",
   "metadata": {},
   "outputs": [
    {
     "name": "stdout",
     "output_type": "stream",
     "text": [
      "2\n",
      "1\n"
     ]
    }
   ],
   "source": [
    "#To count the number of occurance of particular value\n",
    "tup = (1,23,34,45,56,23,78,89)\n",
    "print(tup.count(23))\n",
    "print(tup.count(34))"
   ]
  },
  {
   "cell_type": "code",
   "execution_count": 16,
   "id": "dc3dd283",
   "metadata": {},
   "outputs": [
    {
     "name": "stdout",
     "output_type": "stream",
     "text": [
      "1\n"
     ]
    }
   ],
   "source": [
    "#To find the postion of values in tuple\n",
    "tup = (1,23,34,45,23,67,78,89)\n",
    "print(tup.index(23))"
   ]
  },
  {
   "cell_type": "code",
   "execution_count": 17,
   "id": "0ec39ac9",
   "metadata": {},
   "outputs": [
    {
     "name": "stdout",
     "output_type": "stream",
     "text": [
      "18\n",
      "1\n",
      "567\n",
      "724\n"
     ]
    }
   ],
   "source": [
    "#To find the length, min, max, sum of the list\n",
    "num_lst = (1,1,1,1,1,3,4,4,5,6,7,7,5,567,6,7,89,9)\n",
    "print(len(num_lst))\n",
    "print(min(num_lst))\n",
    "print(max(num_lst))\n",
    "print(sum(num_lst))"
   ]
  },
  {
   "cell_type": "code",
   "execution_count": 18,
   "id": "a0f66b87",
   "metadata": {},
   "outputs": [
    {
     "name": "stdout",
     "output_type": "stream",
     "text": [
      "[1, 1, 1, 1, 1, 3, 4, 4, 5, 5, 6, 6, 7, 7, 7, 9, 89, 567]\n"
     ]
    }
   ],
   "source": [
    "#To do sort the value\n",
    "num_lst = (1,1,1,1,1,3,4,4,5,6,7,7,5,567,6,7,89,9)\n",
    "print(sorted(num_lst))"
   ]
  },
  {
   "cell_type": "markdown",
   "id": "f5f03344",
   "metadata": {},
   "source": [
    "# Set in python \n",
    "    -> It is unordered collection of data and doesnot allow duplication \n",
    "    -> Common use of set is membership testing and removing duplication\n",
    "    -> Cannot do indexing and slicing "
   ]
  },
  {
   "cell_type": "code",
   "execution_count": 19,
   "id": "3b65d06a",
   "metadata": {},
   "outputs": [
    {
     "name": "stdout",
     "output_type": "stream",
     "text": [
      "{67, 56756, 454, 2343, 123}\n"
     ]
    }
   ],
   "source": [
    "my_set = {123, 2343, 454, 56756, 67}\n",
    "print(my_set)"
   ]
  },
  {
   "cell_type": "code",
   "execution_count": 20,
   "id": "12490453",
   "metadata": {},
   "outputs": [
    {
     "name": "stdout",
     "output_type": "stream",
     "text": [
      "{32, 67, 56756, 454, 2343, 123}\n"
     ]
    }
   ],
   "source": [
    "#To add a value into set\n",
    "my_set = {123, 2343, 454, 56756, 67}\n",
    "my_set.add(32)\n",
    "print(my_set)"
   ]
  },
  {
   "cell_type": "code",
   "execution_count": 26,
   "id": "de4109f1",
   "metadata": {},
   "outputs": [
    {
     "name": "stdout",
     "output_type": "stream",
     "text": [
      "{67, 56756, 454, 2343}\n"
     ]
    }
   ],
   "source": [
    "#To remove a value from the set\n",
    "my_set = {123, 2343, 454, 56756, 67}\n",
    "my_set.remove(123)\n",
    "print(my_set)"
   ]
  },
  {
   "cell_type": "code",
   "execution_count": 28,
   "id": "33d971f6",
   "metadata": {},
   "outputs": [
    {
     "name": "stdout",
     "output_type": "stream",
     "text": [
      "{67, 56756, 2343, 123}\n"
     ]
    }
   ],
   "source": [
    "my_set = {123, 2343, 454, 56756, 67}\n",
    "my_set.discard(454)\n",
    "print(my_set)"
   ]
  },
  {
   "cell_type": "code",
   "execution_count": 35,
   "id": "c5c3433b",
   "metadata": {},
   "outputs": [
    {
     "name": "stdout",
     "output_type": "stream",
     "text": [
      "67\n",
      "56756\n",
      "{454, 2343, 123}\n"
     ]
    }
   ],
   "source": [
    "#To pop out a particular value\n",
    "my_set = {123, 2343, 454, 56756, 67}\n",
    "print(my_set.pop())\n",
    "print(my_set.pop())\n",
    "print(my_set)"
   ]
  },
  {
   "cell_type": "code",
   "execution_count": 36,
   "id": "0bc7de44",
   "metadata": {},
   "outputs": [
    {
     "data": {
      "text/plain": [
       "True"
      ]
     },
     "execution_count": 36,
     "metadata": {},
     "output_type": "execute_result"
    }
   ],
   "source": [
    "#To check the set2 is the subset of set1\n",
    "my_set = {123, 2343, 454, 56756, 67}\n",
    "set1 = {123, 454}\n",
    "set1.issubset(my_set)"
   ]
  },
  {
   "cell_type": "code",
   "execution_count": 38,
   "id": "f7448221",
   "metadata": {},
   "outputs": [
    {
     "name": "stdout",
     "output_type": "stream",
     "text": [
      "{67, 56756, 454, 2343, 123}\n",
      "set()\n"
     ]
    }
   ],
   "source": [
    "#To clear the entire set\n",
    "my_set = {123, 2343, 454, 56756, 67}\n",
    "print(my_set)\n",
    "my_set.clear()\n",
    "print(my_set)"
   ]
  },
  {
   "cell_type": "code",
   "execution_count": 39,
   "id": "7b60bda2",
   "metadata": {},
   "outputs": [
    {
     "name": "stdout",
     "output_type": "stream",
     "text": [
      "{123, 454}\n"
     ]
    }
   ],
   "source": [
    "#To find the common values in the sets given\n",
    "my_set = {123, 2343, 454, 56756, 67}\n",
    "set1 = {123, 454, 23, 100, 456789}\n",
    "print(my_set.intersection(set1))"
   ]
  },
  {
   "cell_type": "code",
   "execution_count": 41,
   "id": "42d01e00",
   "metadata": {},
   "outputs": [
    {
     "name": "stdout",
     "output_type": "stream",
     "text": [
      "{67, 56756, 2343}\n",
      "{100, 456789, 23}\n"
     ]
    }
   ],
   "source": [
    "#To find the difference between two sets\n",
    "my_set = {123, 2343, 454, 56756, 67}\n",
    "set1 = {123, 454, 23, 100, 456789}\n",
    "print(my_set.difference(set1))\n",
    "print(set1.difference(my_set))"
   ]
  },
  {
   "cell_type": "code",
   "execution_count": 43,
   "id": "0f2bb954",
   "metadata": {},
   "outputs": [
    {
     "name": "stdout",
     "output_type": "stream",
     "text": [
      "{67, 100, 454, 2343, 56756, 456789, 23, 123}\n",
      "{67, 100, 454, 2343, 56756, 456789, 23, 123}\n"
     ]
    }
   ],
   "source": [
    "#To find all the values of the set\n",
    "my_set = {123, 2343, 454, 56756, 67}\n",
    "set1 = {123, 454, 23, 100, 456789}\n",
    "print(my_set.union(set1))\n",
    "print(set1.union(my_set))"
   ]
  },
  {
   "cell_type": "code",
   "execution_count": 44,
   "id": "f8d70533",
   "metadata": {},
   "outputs": [
    {
     "name": "stdout",
     "output_type": "stream",
     "text": [
      "{67, 100, 456789, 23, 56756, 2343}\n"
     ]
    }
   ],
   "source": [
    "#To skip the values that are similar in both the sets\n",
    "my_set = {123, 2343, 454, 56756, 67}\n",
    "set1 = {123, 454, 23, 100, 456789}\n",
    "print(my_set.symmetric_difference(set1))"
   ]
  },
  {
   "cell_type": "markdown",
   "id": "2dbef1bc",
   "metadata": {},
   "source": [
    "# Dictionary in python\n",
    "    -> It is a collection datatype\n",
    "    -> It allows you to work with key value packs"
   ]
  },
  {
   "cell_type": "code",
   "execution_count": 45,
   "id": "0d2f59e2",
   "metadata": {},
   "outputs": [
    {
     "name": "stdout",
     "output_type": "stream",
     "text": [
      "{'Name': 'Naveen', 'Age': 21, 'Salary': 800000}\n"
     ]
    }
   ],
   "source": [
    "employee = {\"Name\" : \"Naveen\", \"Age\" : 21, \"Salary\" : 800000}\n",
    "print(employee)"
   ]
  },
  {
   "cell_type": "code",
   "execution_count": 47,
   "id": "30191f11",
   "metadata": {},
   "outputs": [
    {
     "name": "stdout",
     "output_type": "stream",
     "text": [
      "Naveen\n",
      "21\n",
      "800000\n"
     ]
    }
   ],
   "source": [
    "#To fetch the particular value \n",
    "employee = {\"Name\" : \"Naveen\", \"Age\" : 21, \"Salary\" : 800000}\n",
    "print(employee[\"Name\"])\n",
    "print(employee[\"Age\"])\n",
    "print(employee[\"Salary\"])"
   ]
  },
  {
   "cell_type": "code",
   "execution_count": 50,
   "id": "0c138351",
   "metadata": {},
   "outputs": [
    {
     "name": "stdout",
     "output_type": "stream",
     "text": [
      "Naveen\n",
      "None\n",
      "Not Found\n"
     ]
    }
   ],
   "source": [
    "employee = {\"Name\" : \"Naveen\", \"Age\" : 21, \"Salary\" : 800000}\n",
    "print(employee.get(\"Name\"))\n",
    "print(employee.get(\"location\"))\n",
    "print(employee.get(\"location\", \"Not Found\"))"
   ]
  },
  {
   "cell_type": "code",
   "execution_count": 53,
   "id": "0bfb3b4d",
   "metadata": {},
   "outputs": [
    {
     "name": "stdout",
     "output_type": "stream",
     "text": [
      "{'Name': 'Naveen', 'Age': 21, 'Salary': 800000, 'Location': 'Not defined'}\n"
     ]
    }
   ],
   "source": [
    "#To add new information into the dictionary\n",
    "employee = {\"Name\" : \"Naveen\", \"Age\" : 21, \"Salary\" : 800000}\n",
    "employee[\"Location\"] = \"Not defined\"\n",
    "print(employee)"
   ]
  },
  {
   "cell_type": "code",
   "execution_count": 55,
   "id": "d4dee57f",
   "metadata": {},
   "outputs": [
    {
     "name": "stdout",
     "output_type": "stream",
     "text": [
      "Naveen\n",
      "21\n"
     ]
    }
   ],
   "source": [
    "#To pop the values from the dictionary\n",
    "employee = {\"Name\" : \"Naveen\", \"Age\" : 21, \"Salary\" : 800000}\n",
    "print(employee.pop(\"Name\"))\n",
    "print(employee.pop(\"Age\"))"
   ]
  },
  {
   "cell_type": "code",
   "execution_count": 57,
   "id": "9de8f8ca",
   "metadata": {},
   "outputs": [
    {
     "name": "stdout",
     "output_type": "stream",
     "text": [
      "dict_keys(['Name', 'Age', 'Salary'])\n"
     ]
    }
   ],
   "source": [
    "#To know all the keys in the dictionary\n",
    "employee = {\"Name\" : \"Naveen\", \"Age\" : 21, \"Salary\" : 800000}\n",
    "print(employee.keys())"
   ]
  },
  {
   "cell_type": "code",
   "execution_count": 58,
   "id": "1bf6d4d4",
   "metadata": {},
   "outputs": [
    {
     "name": "stdout",
     "output_type": "stream",
     "text": [
      "dict_values(['Naveen', 21, 800000])\n"
     ]
    }
   ],
   "source": [
    "#To know all the values in the dictionary\n",
    "employee = {\"Name\" : \"Naveen\", \"Age\" : 21, \"Salary\" : 800000}\n",
    "print(employee.values())"
   ]
  },
  {
   "cell_type": "code",
   "execution_count": 59,
   "id": "7dbb696a",
   "metadata": {},
   "outputs": [
    {
     "name": "stdout",
     "output_type": "stream",
     "text": [
      "dict_items([('Name', 'Naveen'), ('Age', 21), ('Salary', 800000)])\n"
     ]
    }
   ],
   "source": [
    "#To know all the keys and values of the dictionary\n",
    "employee = {\"Name\" : \"Naveen\", \"Age\" : 21, \"Salary\" : 800000}\n",
    "print(employee.items())"
   ]
  },
  {
   "cell_type": "code",
   "execution_count": 61,
   "id": "72f2e7de",
   "metadata": {},
   "outputs": [
    {
     "name": "stdout",
     "output_type": "stream",
     "text": [
      "{'Name': 'Naveen', 'Age': '22', 'Salary': 800000}\n"
     ]
    }
   ],
   "source": [
    "#To update the value of the dictionary\n",
    "employee = {\"Name\" : \"Naveen\", \"Age\" : 21, \"Salary\" : 800000}\n",
    "employee[\"Age\"] = \"22\"\n",
    "print(employee)"
   ]
  },
  {
   "cell_type": "code",
   "execution_count": 62,
   "id": "c252260f",
   "metadata": {},
   "outputs": [
    {
     "name": "stdout",
     "output_type": "stream",
     "text": [
      "{}\n"
     ]
    }
   ],
   "source": [
    "#To clear the dictionary\n",
    "employee = {\"Name\" : \"Naveen\", \"Age\" : 21, \"Salary\" : 800000}\n",
    "employee.clear()\n",
    "print(employee)"
   ]
  },
  {
   "cell_type": "code",
   "execution_count": null,
   "id": "6b0d2262",
   "metadata": {},
   "outputs": [],
   "source": []
  }
 ],
 "metadata": {
  "kernelspec": {
   "display_name": "Python 3 (ipykernel)",
   "language": "python",
   "name": "python3"
  },
  "language_info": {
   "codemirror_mode": {
    "name": "ipython",
    "version": 3
   },
   "file_extension": ".py",
   "mimetype": "text/x-python",
   "name": "python",
   "nbconvert_exporter": "python",
   "pygments_lexer": "ipython3",
   "version": "3.10.9"
  }
 },
 "nbformat": 4,
 "nbformat_minor": 5
}
